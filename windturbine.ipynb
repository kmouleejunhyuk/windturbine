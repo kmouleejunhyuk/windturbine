{
  "nbformat": 4,
  "nbformat_minor": 0,
  "metadata": {
    "colab": {
      "name": "windturbine.ipynb",
      "provenance": [],
      "collapsed_sections": [],
      "authorship_tag": "ABX9TyOLCuUPR49nQGjx3RYFJRqS",
      "include_colab_link": true
    },
    "kernelspec": {
      "name": "python3",
      "display_name": "Python 3"
    },
    "accelerator": "GPU"
  },
  "cells": [
    {
      "cell_type": "markdown",
      "metadata": {
        "id": "view-in-github",
        "colab_type": "text"
      },
      "source": [
        "<a href=\"https://colab.research.google.com/github/kmouleejunhyuk/windturbine/blob/main/windturbine.ipynb\" target=\"_parent\"><img src=\"https://colab.research.google.com/assets/colab-badge.svg\" alt=\"Open In Colab\"/></a>"
      ]
    },
    {
      "cell_type": "markdown",
      "metadata": {
        "id": "CY9Esztqkmet"
      },
      "source": [
        "#### 풍력발전기 상태이상 판별 과제"
      ]
    },
    {
      "cell_type": "code",
      "metadata": {
        "id": "f6LAtspYkyc9"
      },
      "source": [
        "###\r\n",
        "#python, pytorch\r\n",
        "#data not encluded due to copyrights issue"
      ],
      "execution_count": 1,
      "outputs": []
    },
    {
      "cell_type": "code",
      "metadata": {
        "id": "mE4-iB_ikxfx"
      },
      "source": [
        "import torch\r\n",
        "from torch import nn\r\n",
        "import torch.nn.functional as F\r\n",
        "import torch.optim as optim\r\n",
        "from torch.utils.data import Dataset, DataLoader\r\n",
        "\r\n",
        "import pandas as pd\r\n",
        "import numpy as np\r\n",
        "import matplotlib.pyplot as plt\r\n",
        "from tqdm import tqdm, tqdm_notebook\r\n",
        "\r\n",
        "import sys\r\n",
        "import time\r\n",
        "import random"
      ],
      "execution_count": 2,
      "outputs": []
    },
    {
      "cell_type": "code",
      "metadata": {
        "colab": {
          "base_uri": "https://localhost:8080/"
        },
        "id": "_DY0nL5Yk49E",
        "outputId": "e3ee3ae1-3100-40b0-88fb-0461ed288985"
      },
      "source": [
        "#구글 드라이브 마운트 & 경로설정\r\n",
        "from google.colab import drive\r\n",
        "drive.mount('/gdrive')\r\n",
        "\r\n",
        "PATH='/gdrive/My Drive/windturbine'"
      ],
      "execution_count": 3,
      "outputs": [
        {
          "output_type": "stream",
          "text": [
            "Mounted at /gdrive\n"
          ],
          "name": "stdout"
        }
      ]
    },
    {
      "cell_type": "code",
      "metadata": {
        "colab": {
          "base_uri": "https://localhost:8080/"
        },
        "id": "1BTqRs2r1FOO",
        "outputId": "246eca2b-797f-4433-c374-a6ebf77c6da4"
      },
      "source": [
        "device = torch.device('cuda' if torch.cuda.is_available() else 'cpu')\r\n",
        "print(\"using device: \", device)"
      ],
      "execution_count": 4,
      "outputs": [
        {
          "output_type": "stream",
          "text": [
            "using device:  cuda\n"
          ],
          "name": "stdout"
        }
      ]
    },
    {
      "cell_type": "code",
      "metadata": {
        "id": "fI3YppfplI8k"
      },
      "source": [
        "#seed for reproducability\r\n",
        "random_seed=49   #44159\r\n",
        "torch.manual_seed(random_seed)\r\n",
        "torch.backends.cudnn.deterministic = True\r\n",
        "torch.backends.cudnn.benchmark = False\r\n",
        "np.random.seed(random_seed)\r\n",
        "random.seed(random_seed)"
      ],
      "execution_count": 5,
      "outputs": []
    },
    {
      "cell_type": "markdown",
      "metadata": {
        "id": "r_5Bk6ifvVKQ"
      },
      "source": [
        "#### Data loading and EDA"
      ]
    },
    {
      "cell_type": "code",
      "metadata": {
        "id": "UGAjBGWumJZM"
      },
      "source": [
        "#data import\r\n",
        "train_raw=pd.read_csv(PATH+'/training_data_set.csv')\r\n",
        "test_raw=pd.read_csv(PATH+'/validation_data_set.csv')"
      ],
      "execution_count": 6,
      "outputs": []
    },
    {
      "cell_type": "code",
      "metadata": {
        "id": "Ku0js4m-miDV"
      },
      "source": [
        "#EDA helper function\r\n",
        "def EDA(df: pd.DataFrame):\r\n",
        "    print(df.head(), '\\n')\r\n",
        "    print(df.dtypes, '\\n')\r\n",
        "\r\n",
        "    for _ in df.columns:\r\n",
        "        if df[_].isna().sum() != 0 or df[_].dtypes != 'float64':\r\n",
        "            #static information\r\n",
        "            print('column '+ _ + ' static info')\r\n",
        "            print('max:', '\\t\\t', df[_].max())\r\n",
        "            print('min:', '\\t\\t', df[_].min())\r\n",
        "            print('avg:', '\\t\\t', df[_].mean())\r\n",
        "            print('count of na: ', '\\t\\t', df[_].isna().sum())\r\n",
        "            print('unique values: ', '\\t\\t', df[_].nunique(dropna=False))\r\n",
        "\r\n",
        "            #plot boxplot by column\r\n",
        "            source=df[_].copy()\r\n",
        "            plt.rcParams['figure.figsize']=[10, 6]\r\n",
        "            plt.title(_)\r\n",
        "            plt.boxplot(source, notch=1, sym='rs', vert=0)\r\n",
        "            plt.show()\r\n",
        "            plt.close()\r\n",
        "            print('\\n')\r\n",
        "\r\n",
        "        #else: print('no na and float value in column {}. max: {}, min: {}, avg: {} \\n'.format(_, df[_].max(), df[_].min(), df[_].mean()))"
      ],
      "execution_count": 7,
      "outputs": []
    },
    {
      "cell_type": "code",
      "metadata": {
        "colab": {
          "base_uri": "https://localhost:8080/",
          "height": 1000
        },
        "id": "13z1e51Tq45j",
        "outputId": "ec42cd56-616b-400b-d529-f09b28483620"
      },
      "source": [
        "EDA(train_raw)"
      ],
      "execution_count": 8,
      "outputs": [
        {
          "output_type": "stream",
          "text": [
            "          1         2    3    4         5  ...  682  683  684  685  686\n",
            "0  0.621211  0.771822  0.5  0.5  0.618948  ...    0    0    0    0    1\n",
            "1  0.624648  0.319315  0.5  0.5  0.625634  ...    0    0    0    0    1\n",
            "2  0.625174  0.244754  0.5  0.5  0.626474  ...    0    0    0    0    1\n",
            "3  0.628112  0.266645  0.5  0.5  0.627791  ...    0    0    0    0    1\n",
            "4  0.629918  0.204191  0.5  0.5  0.629838  ...    0    0    0    0    1\n",
            "\n",
            "[5 rows x 686 columns] \n",
            "\n",
            "1      float64\n",
            "2      float64\n",
            "3      float64\n",
            "4      float64\n",
            "5      float64\n",
            "        ...   \n",
            "682      int64\n",
            "683      int64\n",
            "684      int64\n",
            "685      int64\n",
            "686      int64\n",
            "Length: 686, dtype: object \n",
            "\n",
            "column 681 static info\n",
            "max: \t\t 1\n",
            "min: \t\t 0\n",
            "avg: \t\t 0.1825\n",
            "count of na:  \t\t 0\n",
            "unique values:  \t\t 2\n"
          ],
          "name": "stdout"
        },
        {
          "output_type": "display_data",
          "data": {
            "image/png": "[encoded data removed]",
            "text/plain": [
              "<Figure size 720x432 with 1 Axes>"
            ]
          },
          "metadata": {
            "tags": [],
            "needs_background": "light"
          }
        },
        {
          "output_type": "stream",
          "text": [
            "\n",
            "\n",
            "column 682 static info\n",
            "max: \t\t 1\n",
            "min: \t\t 0\n",
            "avg: \t\t 0.1825\n",
            "count of na:  \t\t 0\n",
            "unique values:  \t\t 2\n"
          ],
          "name": "stdout"
        },
        {
          "output_type": "display_data",
          "data": {
            "image/png": "[encoded data removed]",
            "text/plain": [
              "<Figure size 720x432 with 1 Axes>"
            ]
          },
          "metadata": {
            "tags": [],
            "needs_background": "light"
          }
        },
        {
          "output_type": "stream",
          "text": [
            "\n",
            "\n",
            "column 683 static info\n",
            "max: \t\t 1\n",
            "min: \t\t 0\n",
            "avg: \t\t 0.14625\n",
            "count of na:  \t\t 0\n",
            "unique values:  \t\t 2\n"
          ],
          "name": "stdout"
        },
        {
          "output_type": "display_data",
          "data": {
            "image/png": "[encoded data removed]",
            "text/plain": [
              "<Figure size 720x432 with 1 Axes>"
            ]
          },
          "metadata": {
            "tags": [],
            "needs_background": "light"
          }
        },
        {
          "output_type": "stream",
          "text": [
            "\n",
            "\n",
            "column 684 static info\n",
            "max: \t\t 1\n",
            "min: \t\t 0\n",
            "avg: \t\t 0.1625\n",
            "count of na:  \t\t 0\n",
            "unique values:  \t\t 2\n"
          ],
          "name": "stdout"
        },
        {
          "output_type": "display_data",
          "data": {
            "image/png": "[encoded data removed]",
            "text/plain": [
              "<Figure size 720x432 with 1 Axes>"
            ]
          },
          "metadata": {
            "tags": [],
            "needs_background": "light"
          }
        },
        {
          "output_type": "stream",
          "text": [
            "\n",
            "\n",
            "column 685 static info\n",
            "max: \t\t 1\n",
            "min: \t\t 0\n",
            "avg: \t\t 0.16375\n",
            "count of na:  \t\t 0\n",
            "unique values:  \t\t 2\n"
          ],
          "name": "stdout"
        },
        {
          "output_type": "display_data",
          "data": {
            "image/png": "[encoded data removed]",
            "text/plain": [
              "<Figure size 720x432 with 1 Axes>"
            ]
          },
          "metadata": {
            "tags": [],
            "needs_background": "light"
          }
        },
        {
          "output_type": "stream",
          "text": [
            "\n",
            "\n",
            "column 686 static info\n",
            "max: \t\t 1\n",
            "min: \t\t 0\n",
            "avg: \t\t 0.1625\n",
            "count of na:  \t\t 0\n",
            "unique values:  \t\t 2\n"
          ],
          "name": "stdout"
        },
        {
          "output_type": "display_data",
          "data": {
            "image/png": "[encoded data removed]",
            "text/plain": [
              "<Figure size 720x432 with 1 Axes>"
            ]
          },
          "metadata": {
            "tags": [],
            "needs_background": "light"
          }
        },
        {
          "output_type": "stream",
          "text": [
            "\n",
            "\n"
          ],
          "name": "stdout"
        }
      ]
    },
    {
      "cell_type": "code",
      "metadata": {
        "colab": {
          "base_uri": "https://localhost:8080/",
          "height": 1000
        },
        "id": "PIOxp4k2trwy",
        "outputId": "eab17b83-d5ec-4cf7-b416-9de99331e441"
      },
      "source": [
        "EDA(test_raw)"
      ],
      "execution_count": 9,
      "outputs": [
        {
          "output_type": "stream",
          "text": [
            "          1         2    3    4         5  ...  682  683  684  685  686\n",
            "0  1.019280  1.240127  0.5  0.5  1.018462  ...    0    0    0    0    1\n",
            "1  1.019262  1.248247  0.5  0.5  1.018890  ...    0    0    0    0    1\n",
            "2  1.023792  1.286444  0.5  0.5  1.024392  ...    0    0    0    0    1\n",
            "3  1.023431  1.364974  0.5  0.5  1.023545  ...    0    0    0    0    1\n",
            "4  1.018795  1.277456  0.5  0.5  1.021053  ...    0    0    0    0    1\n",
            "\n",
            "[5 rows x 686 columns] \n",
            "\n",
            "1      float64\n",
            "2      float64\n",
            "3      float64\n",
            "4      float64\n",
            "5      float64\n",
            "        ...   \n",
            "682      int64\n",
            "683      int64\n",
            "684      int64\n",
            "685      int64\n",
            "686      int64\n",
            "Length: 686, dtype: object \n",
            "\n",
            "column 681 static info\n",
            "max: \t\t 1\n",
            "min: \t\t 0\n",
            "avg: \t\t 0.19\n",
            "count of na:  \t\t 0\n",
            "unique values:  \t\t 2\n"
          ],
          "name": "stdout"
        },
        {
          "output_type": "display_data",
          "data": {
            "image/png": "[encoded data removed]",
            "text/plain": [
              "<Figure size 720x432 with 1 Axes>"
            ]
          },
          "metadata": {
            "tags": [],
            "needs_background": "light"
          }
        },
        {
          "output_type": "stream",
          "text": [
            "\n",
            "\n",
            "column 682 static info\n",
            "max: \t\t 1\n",
            "min: \t\t 0\n",
            "avg: \t\t 0.13\n",
            "count of na:  \t\t 0\n",
            "unique values:  \t\t 2\n"
          ],
          "name": "stdout"
        },
        {
          "output_type": "display_data",
          "data": {
            "image/png": "[encoded data removed]",
            "text/plain": [
              "<Figure size 720x432 with 1 Axes>"
            ]
          },
          "metadata": {
            "tags": [],
            "needs_background": "light"
          }
        },
        {
          "output_type": "stream",
          "text": [
            "\n",
            "\n",
            "column 683 static info\n",
            "max: \t\t 1\n",
            "min: \t\t 0\n",
            "avg: \t\t 0.19\n",
            "count of na:  \t\t 0\n",
            "unique values:  \t\t 2\n"
          ],
          "name": "stdout"
        },
        {
          "output_type": "display_data",
          "data": {
            "image/png": "[encoded data removed]",
            "text/plain": [
              "<Figure size 720x432 with 1 Axes>"
            ]
          },
          "metadata": {
            "tags": [],
            "needs_background": "light"
          }
        },
        {
          "output_type": "stream",
          "text": [
            "\n",
            "\n",
            "column 684 static info\n",
            "max: \t\t 1\n",
            "min: \t\t 0\n",
            "avg: \t\t 0.13\n",
            "count of na:  \t\t 0\n",
            "unique values:  \t\t 2\n"
          ],
          "name": "stdout"
        },
        {
          "output_type": "display_data",
          "data": {
            "image/png": "[encoded data removed]",
            "text/plain": [
              "<Figure size 720x432 with 1 Axes>"
            ]
          },
          "metadata": {
            "tags": [],
            "needs_background": "light"
          }
        },
        {
          "output_type": "stream",
          "text": [
            "\n",
            "\n",
            "column 685 static info\n",
            "max: \t\t 1\n",
            "min: \t\t 0\n",
            "avg: \t\t 0.22\n",
            "count of na:  \t\t 0\n",
            "unique values:  \t\t 2\n"
          ],
          "name": "stdout"
        },
        {
          "output_type": "display_data",
          "data": {
            "image/png": "[encoded data removed]",
            "text/plain": [
              "<Figure size 720x432 with 1 Axes>"
            ]
          },
          "metadata": {
            "tags": [],
            "needs_background": "light"
          }
        },
        {
          "output_type": "stream",
          "text": [
            "\n",
            "\n",
            "column 686 static info\n",
            "max: \t\t 1\n",
            "min: \t\t 0\n",
            "avg: \t\t 0.14\n",
            "count of na:  \t\t 0\n",
            "unique values:  \t\t 2\n"
          ],
          "name": "stdout"
        },
        {
          "output_type": "display_data",
          "data": {
            "image/png": "[encoded data removed]",
            "text/plain": [
              "<Figure size 720x432 with 1 Axes>"
            ]
          },
          "metadata": {
            "tags": [],
            "needs_background": "light"
          }
        },
        {
          "output_type": "stream",
          "text": [
            "\n",
            "\n"
          ],
          "name": "stdout"
        }
      ]
    },
    {
      "cell_type": "code",
      "metadata": {
        "id": "0sguTYBcu5Bx"
      },
      "source": [
        "##column 681~686 seems to be one-hot encoded target value"
      ],
      "execution_count": 10,
      "outputs": []
    },
    {
      "cell_type": "markdown",
      "metadata": {
        "id": "Of7ASiYd7_OW"
      },
      "source": [
        "#### preparing data"
      ]
    },
    {
      "cell_type": "code",
      "metadata": {
        "id": "9SbKnrc66htN"
      },
      "source": [
        "train_raw=train_raw.sample(frac=1).reset_index(drop=True)\r\n",
        "\r\n",
        "row=train_raw.shape[0]\r\n",
        "train=train_raw.iloc[:int(row*0.8)]\r\n",
        "valid=train_raw.iloc[int(row*0.8):]"
      ],
      "execution_count": null,
      "outputs": []
    },
    {
      "cell_type": "code",
      "metadata": {
        "id": "JzZcUgGrkgko"
      },
      "source": [
        "y_train=train[[str(x) for x in range(681, 687)]]\r\n",
        "x_train=train[[str(x) for x in range(1, 681)]]\r\n",
        "\r\n",
        "y_valid=valid[[str(x) for x in range(681, 687)]]\r\n",
        "x_valid=valid[[str(x) for x in range(1, 681)]]\r\n",
        "\r\n",
        "y_test=test_raw[[str(x) for x in range(681, 687)]]\r\n",
        "x_test=test_raw[[str(x) for x in range(1, 681)]]"
      ],
      "execution_count": 11,
      "outputs": []
    },
    {
      "cell_type": "code",
      "metadata": {
        "colab": {
          "base_uri": "https://localhost:8080/"
        },
        "id": "VlDQfmrk3CYf",
        "outputId": "b2e2e93e-7c18-4687-f375-818e4e49b733"
      },
      "source": [
        "y_train.iloc[0]"
      ],
      "execution_count": 12,
      "outputs": [
        {
          "output_type": "execute_result",
          "data": {
            "text/plain": [
              "681    0\n",
              "682    0\n",
              "683    0\n",
              "684    0\n",
              "685    0\n",
              "686    1\n",
              "Name: 0, dtype: int64"
            ]
          },
          "metadata": {
            "tags": []
          },
          "execution_count": 12
        }
      ]
    },
    {
      "cell_type": "code",
      "metadata": {
        "id": "xsM2sfDq9xY7",
        "colab": {
          "base_uri": "https://localhost:8080/"
        },
        "outputId": "f27e9dba-e226-442f-def6-06c9ceacfc89"
      },
      "source": [
        "#changing one-hot encoded target value to single integer value(0~6)\r\n",
        "y_train['target']=np.argmax(y_train.copy().values, axis=1)\r\n",
        "y_valid['target']=np.argmax(y_valid.copy().values, axis=1)\r\n",
        "y_test['target']=np.argmax(y_test.copy().values, axis=1)\r\n",
        "\r\n",
        "y_train=y_train['target'].copy()\r\n",
        "y_valid=y_valid['target'].copy()\r\n",
        "y_test=y_test['target'].copy()"
      ],
      "execution_count": 13,
      "outputs": [
        {
          "output_type": "stream",
          "text": [
            "/usr/local/lib/python3.7/dist-packages/ipykernel_launcher.py:2: SettingWithCopyWarning: \n",
            "A value is trying to be set on a copy of a slice from a DataFrame.\n",
            "Try using .loc[row_indexer,col_indexer] = value instead\n",
            "\n",
            "See the caveats in the documentation: https://pandas.pydata.org/pandas-docs/stable/user_guide/indexing.html#returning-a-view-versus-a-copy\n",
            "  \n",
            "/usr/local/lib/python3.7/dist-packages/ipykernel_launcher.py:3: SettingWithCopyWarning: \n",
            "A value is trying to be set on a copy of a slice from a DataFrame.\n",
            "Try using .loc[row_indexer,col_indexer] = value instead\n",
            "\n",
            "See the caveats in the documentation: https://pandas.pydata.org/pandas-docs/stable/user_guide/indexing.html#returning-a-view-versus-a-copy\n",
            "  This is separate from the ipykernel package so we can avoid doing imports until\n"
          ],
          "name": "stderr"
        }
      ]
    },
    {
      "cell_type": "code",
      "metadata": {
        "colab": {
          "base_uri": "https://localhost:8080/"
        },
        "id": "2rs_oYSI20B-",
        "outputId": "4a439fb1-0b67-4683-9f63-46a2e6f7c59b"
      },
      "source": [
        "np.unique(y_test.values, return_counts=True)"
      ],
      "execution_count": 14,
      "outputs": [
        {
          "output_type": "execute_result",
          "data": {
            "text/plain": [
              "(array([0, 1, 2, 3, 4, 5]), array([3800, 2600, 3800, 2600, 4400, 2800]))"
            ]
          },
          "metadata": {
            "tags": []
          },
          "execution_count": 14
        }
      ]
    },
    {
      "cell_type": "code",
      "metadata": {
        "id": "ycQgeIHV_2Z_"
      },
      "source": [
        "#from sklearn.preprocessing import RobustScaler\r\n",
        "#trans=RobustScaler().fit(x_train.values)\r\n",
        "#x_train=pd.DataFrame(data=trans.transform(x_train.values), columns=x_train.columns)\r\n",
        "#x_test=pd.DataFrame(data=trans.transform(x_test.values), columns=x_test.columns)"
      ],
      "execution_count": 15,
      "outputs": []
    },
    {
      "cell_type": "code",
      "metadata": {
        "colab": {
          "base_uri": "https://localhost:8080/",
          "height": 427
        },
        "id": "qdQ4qBIs3g63",
        "outputId": "3125e3d4-f931-4be2-c83d-e251855682f4"
      },
      "source": [
        "x_train"
      ],
      "execution_count": 16,
      "outputs": [
        {
          "output_type": "execute_result",
          "data": {
            "text/html": [
              "<div>\n",
              "<style scoped>\n",
              "    .dataframe tbody tr th:only-of-type {\n",
              "        vertical-align: middle;\n",
              "    }\n",
              "\n",
              "    .dataframe tbody tr th {\n",
              "        vertical-align: top;\n",
              "    }\n",
              "\n",
              "    .dataframe thead th {\n",
              "        text-align: right;\n",
              "    }\n",
              "</style>\n",
              "<table border=\"1\" class=\"dataframe\">\n",
              "  <thead>\n",
              "    <tr style=\"text-align: right;\">\n",
              "      <th></th>\n",
              "      <th>1</th>\n",
              "      <th>2</th>\n",
              "      <th>3</th>\n",
              "      <th>4</th>\n",
              "      <th>5</th>\n",
              "      <th>6</th>\n",
              "      <th>7</th>\n",
              "      <th>8</th>\n",
              "      <th>9</th>\n",
              "      <th>10</th>\n",
              "      <th>11</th>\n",
              "      <th>12</th>\n",
              "      <th>13</th>\n",
              "      <th>14</th>\n",
              "      <th>15</th>\n",
              "      <th>16</th>\n",
              "      <th>17</th>\n",
              "      <th>18</th>\n",
              "      <th>19</th>\n",
              "      <th>20</th>\n",
              "      <th>21</th>\n",
              "      <th>22</th>\n",
              "      <th>23</th>\n",
              "      <th>24</th>\n",
              "      <th>25</th>\n",
              "      <th>26</th>\n",
              "      <th>27</th>\n",
              "      <th>28</th>\n",
              "      <th>29</th>\n",
              "      <th>30</th>\n",
              "      <th>31</th>\n",
              "      <th>32</th>\n",
              "      <th>33</th>\n",
              "      <th>34</th>\n",
              "      <th>35</th>\n",
              "      <th>36</th>\n",
              "      <th>37</th>\n",
              "      <th>38</th>\n",
              "      <th>39</th>\n",
              "      <th>40</th>\n",
              "      <th>...</th>\n",
              "      <th>641</th>\n",
              "      <th>642</th>\n",
              "      <th>643</th>\n",
              "      <th>644</th>\n",
              "      <th>645</th>\n",
              "      <th>646</th>\n",
              "      <th>647</th>\n",
              "      <th>648</th>\n",
              "      <th>649</th>\n",
              "      <th>650</th>\n",
              "      <th>651</th>\n",
              "      <th>652</th>\n",
              "      <th>653</th>\n",
              "      <th>654</th>\n",
              "      <th>655</th>\n",
              "      <th>656</th>\n",
              "      <th>657</th>\n",
              "      <th>658</th>\n",
              "      <th>659</th>\n",
              "      <th>660</th>\n",
              "      <th>661</th>\n",
              "      <th>662</th>\n",
              "      <th>663</th>\n",
              "      <th>664</th>\n",
              "      <th>665</th>\n",
              "      <th>666</th>\n",
              "      <th>667</th>\n",
              "      <th>668</th>\n",
              "      <th>669</th>\n",
              "      <th>670</th>\n",
              "      <th>671</th>\n",
              "      <th>672</th>\n",
              "      <th>673</th>\n",
              "      <th>674</th>\n",
              "      <th>675</th>\n",
              "      <th>676</th>\n",
              "      <th>677</th>\n",
              "      <th>678</th>\n",
              "      <th>679</th>\n",
              "      <th>680</th>\n",
              "    </tr>\n",
              "  </thead>\n",
              "  <tbody>\n",
              "    <tr>\n",
              "      <th>0</th>\n",
              "      <td>0.621211</td>\n",
              "      <td>0.771822</td>\n",
              "      <td>0.500000</td>\n",
              "      <td>0.500000</td>\n",
              "      <td>0.618948</td>\n",
              "      <td>0.778204</td>\n",
              "      <td>0.500000</td>\n",
              "      <td>0.500000</td>\n",
              "      <td>0.618757</td>\n",
              "      <td>0.781689</td>\n",
              "      <td>0.500000</td>\n",
              "      <td>0.500000</td>\n",
              "      <td>0.620138</td>\n",
              "      <td>0.779829</td>\n",
              "      <td>0.500000</td>\n",
              "      <td>0.500000</td>\n",
              "      <td>0.620462</td>\n",
              "      <td>0.780373</td>\n",
              "      <td>0.500000</td>\n",
              "      <td>0.500000</td>\n",
              "      <td>0.621198</td>\n",
              "      <td>0.782671</td>\n",
              "      <td>0.500000</td>\n",
              "      <td>0.500000</td>\n",
              "      <td>0.621067</td>\n",
              "      <td>0.785016</td>\n",
              "      <td>0.500000</td>\n",
              "      <td>0.500000</td>\n",
              "      <td>0.620831</td>\n",
              "      <td>0.787296</td>\n",
              "      <td>0.500000</td>\n",
              "      <td>0.500000</td>\n",
              "      <td>0.621668</td>\n",
              "      <td>0.787148</td>\n",
              "      <td>0.500000</td>\n",
              "      <td>0.500000</td>\n",
              "      <td>0.621921</td>\n",
              "      <td>0.788640</td>\n",
              "      <td>0.500000</td>\n",
              "      <td>0.500000</td>\n",
              "      <td>...</td>\n",
              "      <td>0.623611</td>\n",
              "      <td>0.905358</td>\n",
              "      <td>0.500000</td>\n",
              "      <td>0.500000</td>\n",
              "      <td>0.624826</td>\n",
              "      <td>0.900685</td>\n",
              "      <td>0.500000</td>\n",
              "      <td>0.500000</td>\n",
              "      <td>0.626593</td>\n",
              "      <td>0.891782</td>\n",
              "      <td>0.500000</td>\n",
              "      <td>0.500000</td>\n",
              "      <td>0.624835</td>\n",
              "      <td>0.889028</td>\n",
              "      <td>0.500000</td>\n",
              "      <td>0.500000</td>\n",
              "      <td>0.624248</td>\n",
              "      <td>0.888958</td>\n",
              "      <td>0.500000</td>\n",
              "      <td>0.500000</td>\n",
              "      <td>0.625558</td>\n",
              "      <td>0.882536</td>\n",
              "      <td>0.500000</td>\n",
              "      <td>0.500000</td>\n",
              "      <td>0.625394</td>\n",
              "      <td>0.876826</td>\n",
              "      <td>0.500000</td>\n",
              "      <td>0.500000</td>\n",
              "      <td>0.626826</td>\n",
              "      <td>0.869474</td>\n",
              "      <td>0.500000</td>\n",
              "      <td>0.500000</td>\n",
              "      <td>0.626368</td>\n",
              "      <td>0.865372</td>\n",
              "      <td>0.500000</td>\n",
              "      <td>0.500000</td>\n",
              "      <td>0.627538</td>\n",
              "      <td>0.858994</td>\n",
              "      <td>0.500000</td>\n",
              "      <td>0.500000</td>\n",
              "    </tr>\n",
              "    <tr>\n",
              "      <th>1</th>\n",
              "      <td>0.624648</td>\n",
              "      <td>0.319315</td>\n",
              "      <td>0.500000</td>\n",
              "      <td>0.500000</td>\n",
              "      <td>0.625634</td>\n",
              "      <td>0.322292</td>\n",
              "      <td>0.500000</td>\n",
              "      <td>0.500000</td>\n",
              "      <td>0.624609</td>\n",
              "      <td>0.327090</td>\n",
              "      <td>0.500000</td>\n",
              "      <td>0.500000</td>\n",
              "      <td>0.626457</td>\n",
              "      <td>0.329370</td>\n",
              "      <td>0.500000</td>\n",
              "      <td>0.500000</td>\n",
              "      <td>0.625968</td>\n",
              "      <td>0.333533</td>\n",
              "      <td>0.500000</td>\n",
              "      <td>0.500000</td>\n",
              "      <td>0.626370</td>\n",
              "      <td>0.337926</td>\n",
              "      <td>0.500000</td>\n",
              "      <td>0.500000</td>\n",
              "      <td>0.626663</td>\n",
              "      <td>0.341066</td>\n",
              "      <td>0.500000</td>\n",
              "      <td>0.500000</td>\n",
              "      <td>0.625799</td>\n",
              "      <td>0.346628</td>\n",
              "      <td>0.500000</td>\n",
              "      <td>0.500000</td>\n",
              "      <td>0.625098</td>\n",
              "      <td>0.352255</td>\n",
              "      <td>0.500000</td>\n",
              "      <td>0.500000</td>\n",
              "      <td>0.625129</td>\n",
              "      <td>0.356953</td>\n",
              "      <td>0.500000</td>\n",
              "      <td>0.500000</td>\n",
              "      <td>...</td>\n",
              "      <td>0.623302</td>\n",
              "      <td>0.308619</td>\n",
              "      <td>0.500000</td>\n",
              "      <td>0.500000</td>\n",
              "      <td>0.623672</td>\n",
              "      <td>0.308181</td>\n",
              "      <td>0.500000</td>\n",
              "      <td>0.500000</td>\n",
              "      <td>0.623901</td>\n",
              "      <td>0.309154</td>\n",
              "      <td>0.500000</td>\n",
              "      <td>0.500000</td>\n",
              "      <td>0.624576</td>\n",
              "      <td>0.309127</td>\n",
              "      <td>0.500000</td>\n",
              "      <td>0.500000</td>\n",
              "      <td>0.624481</td>\n",
              "      <td>0.308304</td>\n",
              "      <td>0.500000</td>\n",
              "      <td>0.500000</td>\n",
              "      <td>0.623694</td>\n",
              "      <td>0.308501</td>\n",
              "      <td>0.500000</td>\n",
              "      <td>0.500000</td>\n",
              "      <td>0.624821</td>\n",
              "      <td>0.307455</td>\n",
              "      <td>0.500000</td>\n",
              "      <td>0.500000</td>\n",
              "      <td>0.624925</td>\n",
              "      <td>0.306996</td>\n",
              "      <td>0.500000</td>\n",
              "      <td>0.500000</td>\n",
              "      <td>0.624853</td>\n",
              "      <td>0.305456</td>\n",
              "      <td>0.500000</td>\n",
              "      <td>0.500000</td>\n",
              "      <td>0.625327</td>\n",
              "      <td>0.302547</td>\n",
              "      <td>0.500000</td>\n",
              "      <td>0.500000</td>\n",
              "    </tr>\n",
              "    <tr>\n",
              "      <th>2</th>\n",
              "      <td>0.625174</td>\n",
              "      <td>0.244754</td>\n",
              "      <td>0.500000</td>\n",
              "      <td>0.500000</td>\n",
              "      <td>0.626474</td>\n",
              "      <td>0.244188</td>\n",
              "      <td>0.500000</td>\n",
              "      <td>0.500000</td>\n",
              "      <td>0.625647</td>\n",
              "      <td>0.246693</td>\n",
              "      <td>0.500000</td>\n",
              "      <td>0.500000</td>\n",
              "      <td>0.625275</td>\n",
              "      <td>0.249789</td>\n",
              "      <td>0.500000</td>\n",
              "      <td>0.500000</td>\n",
              "      <td>0.627041</td>\n",
              "      <td>0.250458</td>\n",
              "      <td>0.500000</td>\n",
              "      <td>0.500000</td>\n",
              "      <td>0.627897</td>\n",
              "      <td>0.251795</td>\n",
              "      <td>0.500000</td>\n",
              "      <td>0.500000</td>\n",
              "      <td>0.628201</td>\n",
              "      <td>0.254106</td>\n",
              "      <td>0.500000</td>\n",
              "      <td>0.500000</td>\n",
              "      <td>0.629351</td>\n",
              "      <td>0.255358</td>\n",
              "      <td>0.500000</td>\n",
              "      <td>0.500000</td>\n",
              "      <td>0.629306</td>\n",
              "      <td>0.258078</td>\n",
              "      <td>0.500000</td>\n",
              "      <td>0.500000</td>\n",
              "      <td>0.628768</td>\n",
              "      <td>0.261649</td>\n",
              "      <td>0.500000</td>\n",
              "      <td>0.500000</td>\n",
              "      <td>...</td>\n",
              "      <td>0.627046</td>\n",
              "      <td>0.311573</td>\n",
              "      <td>0.500000</td>\n",
              "      <td>0.500000</td>\n",
              "      <td>0.628475</td>\n",
              "      <td>0.307589</td>\n",
              "      <td>0.500000</td>\n",
              "      <td>0.500000</td>\n",
              "      <td>0.627504</td>\n",
              "      <td>0.307001</td>\n",
              "      <td>0.500000</td>\n",
              "      <td>0.500000</td>\n",
              "      <td>0.625525</td>\n",
              "      <td>0.308530</td>\n",
              "      <td>0.500000</td>\n",
              "      <td>0.500000</td>\n",
              "      <td>0.627830</td>\n",
              "      <td>0.304099</td>\n",
              "      <td>0.500000</td>\n",
              "      <td>0.500000</td>\n",
              "      <td>0.629147</td>\n",
              "      <td>0.300355</td>\n",
              "      <td>0.500000</td>\n",
              "      <td>0.500000</td>\n",
              "      <td>0.629372</td>\n",
              "      <td>0.300141</td>\n",
              "      <td>0.500000</td>\n",
              "      <td>0.500000</td>\n",
              "      <td>0.629461</td>\n",
              "      <td>0.300074</td>\n",
              "      <td>0.500000</td>\n",
              "      <td>0.500000</td>\n",
              "      <td>0.628376</td>\n",
              "      <td>0.301380</td>\n",
              "      <td>0.500000</td>\n",
              "      <td>0.500000</td>\n",
              "      <td>0.628752</td>\n",
              "      <td>0.300429</td>\n",
              "      <td>0.500000</td>\n",
              "      <td>0.500000</td>\n",
              "    </tr>\n",
              "    <tr>\n",
              "      <th>3</th>\n",
              "      <td>0.628112</td>\n",
              "      <td>0.266645</td>\n",
              "      <td>0.500000</td>\n",
              "      <td>0.500000</td>\n",
              "      <td>0.627791</td>\n",
              "      <td>0.265395</td>\n",
              "      <td>0.500000</td>\n",
              "      <td>0.500000</td>\n",
              "      <td>0.628627</td>\n",
              "      <td>0.263789</td>\n",
              "      <td>0.500000</td>\n",
              "      <td>0.500000</td>\n",
              "      <td>0.629278</td>\n",
              "      <td>0.261797</td>\n",
              "      <td>0.500000</td>\n",
              "      <td>0.500000</td>\n",
              "      <td>0.629657</td>\n",
              "      <td>0.259154</td>\n",
              "      <td>0.500000</td>\n",
              "      <td>0.500000</td>\n",
              "      <td>0.627763</td>\n",
              "      <td>0.260061</td>\n",
              "      <td>0.500000</td>\n",
              "      <td>0.500000</td>\n",
              "      <td>0.628397</td>\n",
              "      <td>0.260353</td>\n",
              "      <td>0.500000</td>\n",
              "      <td>0.500000</td>\n",
              "      <td>0.627545</td>\n",
              "      <td>0.261335</td>\n",
              "      <td>0.500000</td>\n",
              "      <td>0.500000</td>\n",
              "      <td>0.628393</td>\n",
              "      <td>0.260832</td>\n",
              "      <td>0.500000</td>\n",
              "      <td>0.500000</td>\n",
              "      <td>0.629446</td>\n",
              "      <td>0.259423</td>\n",
              "      <td>0.500000</td>\n",
              "      <td>0.500000</td>\n",
              "      <td>...</td>\n",
              "      <td>0.631336</td>\n",
              "      <td>0.099245</td>\n",
              "      <td>0.500000</td>\n",
              "      <td>0.500000</td>\n",
              "      <td>0.630362</td>\n",
              "      <td>0.097601</td>\n",
              "      <td>0.500000</td>\n",
              "      <td>0.500000</td>\n",
              "      <td>0.629374</td>\n",
              "      <td>0.096301</td>\n",
              "      <td>0.500000</td>\n",
              "      <td>0.500000</td>\n",
              "      <td>0.630424</td>\n",
              "      <td>0.093527</td>\n",
              "      <td>0.500000</td>\n",
              "      <td>0.500000</td>\n",
              "      <td>0.629666</td>\n",
              "      <td>0.092425</td>\n",
              "      <td>0.500000</td>\n",
              "      <td>0.500000</td>\n",
              "      <td>0.629122</td>\n",
              "      <td>0.091365</td>\n",
              "      <td>0.500000</td>\n",
              "      <td>0.500000</td>\n",
              "      <td>0.628671</td>\n",
              "      <td>0.089794</td>\n",
              "      <td>0.500000</td>\n",
              "      <td>0.500000</td>\n",
              "      <td>0.628528</td>\n",
              "      <td>0.087847</td>\n",
              "      <td>0.500000</td>\n",
              "      <td>0.500000</td>\n",
              "      <td>0.627578</td>\n",
              "      <td>0.086856</td>\n",
              "      <td>0.500000</td>\n",
              "      <td>0.500000</td>\n",
              "      <td>0.626935</td>\n",
              "      <td>0.085965</td>\n",
              "      <td>0.500000</td>\n",
              "      <td>0.500000</td>\n",
              "    </tr>\n",
              "    <tr>\n",
              "      <th>4</th>\n",
              "      <td>0.629918</td>\n",
              "      <td>0.204191</td>\n",
              "      <td>0.500000</td>\n",
              "      <td>0.500000</td>\n",
              "      <td>0.629838</td>\n",
              "      <td>0.200329</td>\n",
              "      <td>0.500000</td>\n",
              "      <td>0.500000</td>\n",
              "      <td>0.630213</td>\n",
              "      <td>0.196088</td>\n",
              "      <td>0.500000</td>\n",
              "      <td>0.500000</td>\n",
              "      <td>0.629504</td>\n",
              "      <td>0.193500</td>\n",
              "      <td>0.500000</td>\n",
              "      <td>0.500000</td>\n",
              "      <td>0.628963</td>\n",
              "      <td>0.190968</td>\n",
              "      <td>0.500000</td>\n",
              "      <td>0.500000</td>\n",
              "      <td>0.628110</td>\n",
              "      <td>0.188250</td>\n",
              "      <td>0.500000</td>\n",
              "      <td>0.500000</td>\n",
              "      <td>0.628142</td>\n",
              "      <td>0.185221</td>\n",
              "      <td>0.500000</td>\n",
              "      <td>0.500000</td>\n",
              "      <td>0.627405</td>\n",
              "      <td>0.183282</td>\n",
              "      <td>0.500000</td>\n",
              "      <td>0.500000</td>\n",
              "      <td>0.626792</td>\n",
              "      <td>0.182338</td>\n",
              "      <td>0.500000</td>\n",
              "      <td>0.500000</td>\n",
              "      <td>0.627162</td>\n",
              "      <td>0.178896</td>\n",
              "      <td>0.500000</td>\n",
              "      <td>0.500000</td>\n",
              "      <td>...</td>\n",
              "      <td>0.627253</td>\n",
              "      <td>0.064991</td>\n",
              "      <td>0.500000</td>\n",
              "      <td>0.500000</td>\n",
              "      <td>0.626697</td>\n",
              "      <td>0.066175</td>\n",
              "      <td>0.500000</td>\n",
              "      <td>0.500000</td>\n",
              "      <td>0.626166</td>\n",
              "      <td>0.066714</td>\n",
              "      <td>0.500000</td>\n",
              "      <td>0.500000</td>\n",
              "      <td>0.625903</td>\n",
              "      <td>0.066971</td>\n",
              "      <td>0.500000</td>\n",
              "      <td>0.500000</td>\n",
              "      <td>0.624765</td>\n",
              "      <td>0.067522</td>\n",
              "      <td>0.500000</td>\n",
              "      <td>0.500000</td>\n",
              "      <td>0.625170</td>\n",
              "      <td>0.066490</td>\n",
              "      <td>0.500000</td>\n",
              "      <td>0.500000</td>\n",
              "      <td>0.623686</td>\n",
              "      <td>0.066064</td>\n",
              "      <td>0.500000</td>\n",
              "      <td>0.500000</td>\n",
              "      <td>0.623665</td>\n",
              "      <td>0.065208</td>\n",
              "      <td>0.500000</td>\n",
              "      <td>0.500000</td>\n",
              "      <td>0.622915</td>\n",
              "      <td>0.064237</td>\n",
              "      <td>0.500000</td>\n",
              "      <td>0.500000</td>\n",
              "      <td>0.623839</td>\n",
              "      <td>0.061642</td>\n",
              "      <td>0.500000</td>\n",
              "      <td>0.500000</td>\n",
              "    </tr>\n",
              "    <tr>\n",
              "      <th>...</th>\n",
              "      <td>...</td>\n",
              "      <td>...</td>\n",
              "      <td>...</td>\n",
              "      <td>...</td>\n",
              "      <td>...</td>\n",
              "      <td>...</td>\n",
              "      <td>...</td>\n",
              "      <td>...</td>\n",
              "      <td>...</td>\n",
              "      <td>...</td>\n",
              "      <td>...</td>\n",
              "      <td>...</td>\n",
              "      <td>...</td>\n",
              "      <td>...</td>\n",
              "      <td>...</td>\n",
              "      <td>...</td>\n",
              "      <td>...</td>\n",
              "      <td>...</td>\n",
              "      <td>...</td>\n",
              "      <td>...</td>\n",
              "      <td>...</td>\n",
              "      <td>...</td>\n",
              "      <td>...</td>\n",
              "      <td>...</td>\n",
              "      <td>...</td>\n",
              "      <td>...</td>\n",
              "      <td>...</td>\n",
              "      <td>...</td>\n",
              "      <td>...</td>\n",
              "      <td>...</td>\n",
              "      <td>...</td>\n",
              "      <td>...</td>\n",
              "      <td>...</td>\n",
              "      <td>...</td>\n",
              "      <td>...</td>\n",
              "      <td>...</td>\n",
              "      <td>...</td>\n",
              "      <td>...</td>\n",
              "      <td>...</td>\n",
              "      <td>...</td>\n",
              "      <td>...</td>\n",
              "      <td>...</td>\n",
              "      <td>...</td>\n",
              "      <td>...</td>\n",
              "      <td>...</td>\n",
              "      <td>...</td>\n",
              "      <td>...</td>\n",
              "      <td>...</td>\n",
              "      <td>...</td>\n",
              "      <td>...</td>\n",
              "      <td>...</td>\n",
              "      <td>...</td>\n",
              "      <td>...</td>\n",
              "      <td>...</td>\n",
              "      <td>...</td>\n",
              "      <td>...</td>\n",
              "      <td>...</td>\n",
              "      <td>...</td>\n",
              "      <td>...</td>\n",
              "      <td>...</td>\n",
              "      <td>...</td>\n",
              "      <td>...</td>\n",
              "      <td>...</td>\n",
              "      <td>...</td>\n",
              "      <td>...</td>\n",
              "      <td>...</td>\n",
              "      <td>...</td>\n",
              "      <td>...</td>\n",
              "      <td>...</td>\n",
              "      <td>...</td>\n",
              "      <td>...</td>\n",
              "      <td>...</td>\n",
              "      <td>...</td>\n",
              "      <td>...</td>\n",
              "      <td>...</td>\n",
              "      <td>...</td>\n",
              "      <td>...</td>\n",
              "      <td>...</td>\n",
              "      <td>...</td>\n",
              "      <td>...</td>\n",
              "      <td>...</td>\n",
              "    </tr>\n",
              "    <tr>\n",
              "      <th>79995</th>\n",
              "      <td>0.887721</td>\n",
              "      <td>1.091070</td>\n",
              "      <td>0.424077</td>\n",
              "      <td>0.423740</td>\n",
              "      <td>0.887721</td>\n",
              "      <td>1.088919</td>\n",
              "      <td>0.420947</td>\n",
              "      <td>0.421194</td>\n",
              "      <td>0.887721</td>\n",
              "      <td>1.087406</td>\n",
              "      <td>0.424144</td>\n",
              "      <td>0.424040</td>\n",
              "      <td>0.887721</td>\n",
              "      <td>1.085863</td>\n",
              "      <td>0.421088</td>\n",
              "      <td>0.421141</td>\n",
              "      <td>0.887721</td>\n",
              "      <td>1.084576</td>\n",
              "      <td>0.424033</td>\n",
              "      <td>0.423970</td>\n",
              "      <td>0.887721</td>\n",
              "      <td>1.084263</td>\n",
              "      <td>0.424713</td>\n",
              "      <td>0.425158</td>\n",
              "      <td>0.887721</td>\n",
              "      <td>1.084600</td>\n",
              "      <td>0.440771</td>\n",
              "      <td>0.441166</td>\n",
              "      <td>0.887721</td>\n",
              "      <td>1.084174</td>\n",
              "      <td>0.444500</td>\n",
              "      <td>0.444552</td>\n",
              "      <td>0.887721</td>\n",
              "      <td>1.083030</td>\n",
              "      <td>0.448513</td>\n",
              "      <td>0.448380</td>\n",
              "      <td>0.887721</td>\n",
              "      <td>1.082820</td>\n",
              "      <td>0.452074</td>\n",
              "      <td>0.452732</td>\n",
              "      <td>...</td>\n",
              "      <td>0.887721</td>\n",
              "      <td>1.011762</td>\n",
              "      <td>0.448849</td>\n",
              "      <td>0.448529</td>\n",
              "      <td>0.887721</td>\n",
              "      <td>1.009064</td>\n",
              "      <td>0.444098</td>\n",
              "      <td>0.444102</td>\n",
              "      <td>0.887721</td>\n",
              "      <td>1.007372</td>\n",
              "      <td>0.444047</td>\n",
              "      <td>0.444026</td>\n",
              "      <td>0.887721</td>\n",
              "      <td>1.006128</td>\n",
              "      <td>0.446259</td>\n",
              "      <td>0.446272</td>\n",
              "      <td>0.887721</td>\n",
              "      <td>1.003099</td>\n",
              "      <td>0.439366</td>\n",
              "      <td>0.438783</td>\n",
              "      <td>0.887721</td>\n",
              "      <td>0.999163</td>\n",
              "      <td>0.421766</td>\n",
              "      <td>0.421454</td>\n",
              "      <td>0.887721</td>\n",
              "      <td>0.996478</td>\n",
              "      <td>0.429186</td>\n",
              "      <td>0.429386</td>\n",
              "      <td>0.887721</td>\n",
              "      <td>0.994116</td>\n",
              "      <td>0.424011</td>\n",
              "      <td>0.423792</td>\n",
              "      <td>0.887721</td>\n",
              "      <td>0.990664</td>\n",
              "      <td>0.419085</td>\n",
              "      <td>0.418764</td>\n",
              "      <td>0.887721</td>\n",
              "      <td>0.986257</td>\n",
              "      <td>0.408189</td>\n",
              "      <td>0.408009</td>\n",
              "    </tr>\n",
              "    <tr>\n",
              "      <th>79996</th>\n",
              "      <td>0.887721</td>\n",
              "      <td>1.172721</td>\n",
              "      <td>0.416838</td>\n",
              "      <td>0.416680</td>\n",
              "      <td>0.887721</td>\n",
              "      <td>1.171329</td>\n",
              "      <td>0.421108</td>\n",
              "      <td>0.421841</td>\n",
              "      <td>0.887721</td>\n",
              "      <td>1.169431</td>\n",
              "      <td>0.425052</td>\n",
              "      <td>0.424413</td>\n",
              "      <td>0.887721</td>\n",
              "      <td>1.168017</td>\n",
              "      <td>0.425431</td>\n",
              "      <td>0.426343</td>\n",
              "      <td>0.887721</td>\n",
              "      <td>1.167732</td>\n",
              "      <td>0.444118</td>\n",
              "      <td>0.444284</td>\n",
              "      <td>0.887721</td>\n",
              "      <td>1.167542</td>\n",
              "      <td>0.453278</td>\n",
              "      <td>0.454095</td>\n",
              "      <td>0.887721</td>\n",
              "      <td>1.167359</td>\n",
              "      <td>0.472733</td>\n",
              "      <td>0.473156</td>\n",
              "      <td>0.887721</td>\n",
              "      <td>1.168249</td>\n",
              "      <td>0.492401</td>\n",
              "      <td>0.493551</td>\n",
              "      <td>0.887721</td>\n",
              "      <td>1.169348</td>\n",
              "      <td>0.515903</td>\n",
              "      <td>0.516401</td>\n",
              "      <td>0.887721</td>\n",
              "      <td>1.170046</td>\n",
              "      <td>0.531549</td>\n",
              "      <td>0.532560</td>\n",
              "      <td>...</td>\n",
              "      <td>0.887721</td>\n",
              "      <td>0.891448</td>\n",
              "      <td>0.480902</td>\n",
              "      <td>0.481167</td>\n",
              "      <td>0.887721</td>\n",
              "      <td>0.891383</td>\n",
              "      <td>0.494597</td>\n",
              "      <td>0.495374</td>\n",
              "      <td>0.887721</td>\n",
              "      <td>0.891827</td>\n",
              "      <td>0.513143</td>\n",
              "      <td>0.513773</td>\n",
              "      <td>0.887721</td>\n",
              "      <td>0.892104</td>\n",
              "      <td>0.527494</td>\n",
              "      <td>0.527918</td>\n",
              "      <td>0.887721</td>\n",
              "      <td>0.892326</td>\n",
              "      <td>0.540543</td>\n",
              "      <td>0.541101</td>\n",
              "      <td>0.887721</td>\n",
              "      <td>0.893143</td>\n",
              "      <td>0.552817</td>\n",
              "      <td>0.553153</td>\n",
              "      <td>0.887721</td>\n",
              "      <td>0.893996</td>\n",
              "      <td>0.562099</td>\n",
              "      <td>0.562476</td>\n",
              "      <td>0.887721</td>\n",
              "      <td>0.894376</td>\n",
              "      <td>0.569932</td>\n",
              "      <td>0.570133</td>\n",
              "      <td>0.887721</td>\n",
              "      <td>0.895318</td>\n",
              "      <td>0.576353</td>\n",
              "      <td>0.576665</td>\n",
              "      <td>0.887721</td>\n",
              "      <td>0.896837</td>\n",
              "      <td>0.583602</td>\n",
              "      <td>0.583753</td>\n",
              "    </tr>\n",
              "    <tr>\n",
              "      <th>79997</th>\n",
              "      <td>0.887721</td>\n",
              "      <td>1.063650</td>\n",
              "      <td>0.376779</td>\n",
              "      <td>0.376885</td>\n",
              "      <td>0.887721</td>\n",
              "      <td>1.059404</td>\n",
              "      <td>0.375516</td>\n",
              "      <td>0.375122</td>\n",
              "      <td>0.887721</td>\n",
              "      <td>1.055835</td>\n",
              "      <td>0.369548</td>\n",
              "      <td>0.369546</td>\n",
              "      <td>0.887721</td>\n",
              "      <td>1.052804</td>\n",
              "      <td>0.365933</td>\n",
              "      <td>0.365534</td>\n",
              "      <td>0.887721</td>\n",
              "      <td>1.048918</td>\n",
              "      <td>0.363929</td>\n",
              "      <td>0.364563</td>\n",
              "      <td>0.887721</td>\n",
              "      <td>1.044573</td>\n",
              "      <td>0.377761</td>\n",
              "      <td>0.377500</td>\n",
              "      <td>0.887721</td>\n",
              "      <td>1.040688</td>\n",
              "      <td>0.365064</td>\n",
              "      <td>0.365007</td>\n",
              "      <td>0.887721</td>\n",
              "      <td>1.036813</td>\n",
              "      <td>0.377270</td>\n",
              "      <td>0.377258</td>\n",
              "      <td>0.887721</td>\n",
              "      <td>1.033012</td>\n",
              "      <td>0.370542</td>\n",
              "      <td>0.370553</td>\n",
              "      <td>0.887721</td>\n",
              "      <td>1.028847</td>\n",
              "      <td>0.371058</td>\n",
              "      <td>0.370854</td>\n",
              "      <td>...</td>\n",
              "      <td>0.887721</td>\n",
              "      <td>1.038288</td>\n",
              "      <td>0.647807</td>\n",
              "      <td>0.647786</td>\n",
              "      <td>0.887721</td>\n",
              "      <td>1.042348</td>\n",
              "      <td>0.653429</td>\n",
              "      <td>0.653570</td>\n",
              "      <td>0.887721</td>\n",
              "      <td>1.046060</td>\n",
              "      <td>0.653642</td>\n",
              "      <td>0.653510</td>\n",
              "      <td>0.887721</td>\n",
              "      <td>1.049337</td>\n",
              "      <td>0.647248</td>\n",
              "      <td>0.646951</td>\n",
              "      <td>0.887721</td>\n",
              "      <td>1.051841</td>\n",
              "      <td>0.640889</td>\n",
              "      <td>0.640829</td>\n",
              "      <td>0.887721</td>\n",
              "      <td>1.054542</td>\n",
              "      <td>0.644334</td>\n",
              "      <td>0.644318</td>\n",
              "      <td>0.887721</td>\n",
              "      <td>1.057362</td>\n",
              "      <td>0.639836</td>\n",
              "      <td>0.639729</td>\n",
              "      <td>0.887721</td>\n",
              "      <td>1.060015</td>\n",
              "      <td>0.632709</td>\n",
              "      <td>0.632206</td>\n",
              "      <td>0.887721</td>\n",
              "      <td>1.062775</td>\n",
              "      <td>0.613337</td>\n",
              "      <td>0.612977</td>\n",
              "      <td>0.887721</td>\n",
              "      <td>1.065819</td>\n",
              "      <td>0.604584</td>\n",
              "      <td>0.604037</td>\n",
              "    </tr>\n",
              "    <tr>\n",
              "      <th>79998</th>\n",
              "      <td>0.887721</td>\n",
              "      <td>0.814526</td>\n",
              "      <td>0.502833</td>\n",
              "      <td>0.502627</td>\n",
              "      <td>0.887721</td>\n",
              "      <td>0.814380</td>\n",
              "      <td>0.500642</td>\n",
              "      <td>0.500666</td>\n",
              "      <td>0.887721</td>\n",
              "      <td>0.814584</td>\n",
              "      <td>0.505616</td>\n",
              "      <td>0.505858</td>\n",
              "      <td>0.887721</td>\n",
              "      <td>0.815237</td>\n",
              "      <td>0.505475</td>\n",
              "      <td>0.505406</td>\n",
              "      <td>0.887721</td>\n",
              "      <td>0.815768</td>\n",
              "      <td>0.507284</td>\n",
              "      <td>0.507253</td>\n",
              "      <td>0.887721</td>\n",
              "      <td>0.816250</td>\n",
              "      <td>0.502154</td>\n",
              "      <td>0.501990</td>\n",
              "      <td>0.887721</td>\n",
              "      <td>0.816707</td>\n",
              "      <td>0.508171</td>\n",
              "      <td>0.508704</td>\n",
              "      <td>0.887721</td>\n",
              "      <td>0.817925</td>\n",
              "      <td>0.520485</td>\n",
              "      <td>0.520848</td>\n",
              "      <td>0.887721</td>\n",
              "      <td>0.819344</td>\n",
              "      <td>0.531372</td>\n",
              "      <td>0.531776</td>\n",
              "      <td>0.887721</td>\n",
              "      <td>0.820342</td>\n",
              "      <td>0.539141</td>\n",
              "      <td>0.539287</td>\n",
              "      <td>...</td>\n",
              "      <td>0.887721</td>\n",
              "      <td>1.171344</td>\n",
              "      <td>0.640770</td>\n",
              "      <td>0.640977</td>\n",
              "      <td>0.887721</td>\n",
              "      <td>1.173067</td>\n",
              "      <td>0.630275</td>\n",
              "      <td>0.629605</td>\n",
              "      <td>0.887721</td>\n",
              "      <td>1.175662</td>\n",
              "      <td>0.636773</td>\n",
              "      <td>0.637611</td>\n",
              "      <td>0.887721</td>\n",
              "      <td>1.178423</td>\n",
              "      <td>0.636714</td>\n",
              "      <td>0.635774</td>\n",
              "      <td>0.887721</td>\n",
              "      <td>1.180891</td>\n",
              "      <td>0.623339</td>\n",
              "      <td>0.623506</td>\n",
              "      <td>0.887721</td>\n",
              "      <td>1.183091</td>\n",
              "      <td>0.621367</td>\n",
              "      <td>0.620804</td>\n",
              "      <td>0.887721</td>\n",
              "      <td>1.184751</td>\n",
              "      <td>0.608089</td>\n",
              "      <td>0.607995</td>\n",
              "      <td>0.887721</td>\n",
              "      <td>1.186053</td>\n",
              "      <td>0.607265</td>\n",
              "      <td>0.606786</td>\n",
              "      <td>0.887721</td>\n",
              "      <td>1.187979</td>\n",
              "      <td>0.585106</td>\n",
              "      <td>0.584306</td>\n",
              "      <td>0.887721</td>\n",
              "      <td>1.189600</td>\n",
              "      <td>0.579942</td>\n",
              "      <td>0.579867</td>\n",
              "    </tr>\n",
              "    <tr>\n",
              "      <th>79999</th>\n",
              "      <td>0.887721</td>\n",
              "      <td>0.693615</td>\n",
              "      <td>0.432962</td>\n",
              "      <td>0.432733</td>\n",
              "      <td>0.887721</td>\n",
              "      <td>0.691657</td>\n",
              "      <td>0.427081</td>\n",
              "      <td>0.427022</td>\n",
              "      <td>0.887721</td>\n",
              "      <td>0.689014</td>\n",
              "      <td>0.429536</td>\n",
              "      <td>0.429720</td>\n",
              "      <td>0.887721</td>\n",
              "      <td>0.686197</td>\n",
              "      <td>0.429986</td>\n",
              "      <td>0.429985</td>\n",
              "      <td>0.887721</td>\n",
              "      <td>0.684403</td>\n",
              "      <td>0.437418</td>\n",
              "      <td>0.437913</td>\n",
              "      <td>0.887721</td>\n",
              "      <td>0.683362</td>\n",
              "      <td>0.446002</td>\n",
              "      <td>0.446177</td>\n",
              "      <td>0.887721</td>\n",
              "      <td>0.681860</td>\n",
              "      <td>0.455660</td>\n",
              "      <td>0.456033</td>\n",
              "      <td>0.887721</td>\n",
              "      <td>0.679899</td>\n",
              "      <td>0.455744</td>\n",
              "      <td>0.455486</td>\n",
              "      <td>0.887721</td>\n",
              "      <td>0.678225</td>\n",
              "      <td>0.451973</td>\n",
              "      <td>0.452139</td>\n",
              "      <td>0.887721</td>\n",
              "      <td>0.677383</td>\n",
              "      <td>0.461129</td>\n",
              "      <td>0.461582</td>\n",
              "      <td>...</td>\n",
              "      <td>0.887721</td>\n",
              "      <td>0.642160</td>\n",
              "      <td>0.486804</td>\n",
              "      <td>0.486876</td>\n",
              "      <td>0.887721</td>\n",
              "      <td>0.641903</td>\n",
              "      <td>0.486570</td>\n",
              "      <td>0.486459</td>\n",
              "      <td>0.887721</td>\n",
              "      <td>0.642147</td>\n",
              "      <td>0.483987</td>\n",
              "      <td>0.484039</td>\n",
              "      <td>0.887721</td>\n",
              "      <td>0.642278</td>\n",
              "      <td>0.485592</td>\n",
              "      <td>0.485650</td>\n",
              "      <td>0.887721</td>\n",
              "      <td>0.642612</td>\n",
              "      <td>0.489480</td>\n",
              "      <td>0.489711</td>\n",
              "      <td>0.887721</td>\n",
              "      <td>0.643413</td>\n",
              "      <td>0.493708</td>\n",
              "      <td>0.493805</td>\n",
              "      <td>0.887721</td>\n",
              "      <td>0.644407</td>\n",
              "      <td>0.497433</td>\n",
              "      <td>0.497682</td>\n",
              "      <td>0.887721</td>\n",
              "      <td>0.644977</td>\n",
              "      <td>0.504441</td>\n",
              "      <td>0.504654</td>\n",
              "      <td>0.887721</td>\n",
              "      <td>0.645425</td>\n",
              "      <td>0.508364</td>\n",
              "      <td>0.508367</td>\n",
              "      <td>0.887721</td>\n",
              "      <td>0.645977</td>\n",
              "      <td>0.509248</td>\n",
              "      <td>0.509457</td>\n",
              "    </tr>\n",
              "  </tbody>\n",
              "</table>\n",
              "<p>80000 rows × 680 columns</p>\n",
              "</div>"
            ],
            "text/plain": [
              "              1         2         3  ...       678       679       680\n",
              "0      0.621211  0.771822  0.500000  ...  0.858994  0.500000  0.500000\n",
              "1      0.624648  0.319315  0.500000  ...  0.302547  0.500000  0.500000\n",
              "2      0.625174  0.244754  0.500000  ...  0.300429  0.500000  0.500000\n",
              "3      0.628112  0.266645  0.500000  ...  0.085965  0.500000  0.500000\n",
              "4      0.629918  0.204191  0.500000  ...  0.061642  0.500000  0.500000\n",
              "...         ...       ...       ...  ...       ...       ...       ...\n",
              "79995  0.887721  1.091070  0.424077  ...  0.986257  0.408189  0.408009\n",
              "79996  0.887721  1.172721  0.416838  ...  0.896837  0.583602  0.583753\n",
              "79997  0.887721  1.063650  0.376779  ...  1.065819  0.604584  0.604037\n",
              "79998  0.887721  0.814526  0.502833  ...  1.189600  0.579942  0.579867\n",
              "79999  0.887721  0.693615  0.432962  ...  0.645977  0.509248  0.509457\n",
              "\n",
              "[80000 rows x 680 columns]"
            ]
          },
          "metadata": {
            "tags": []
          },
          "execution_count": 16
        }
      ]
    },
    {
      "cell_type": "markdown",
      "metadata": {
        "id": "5fbJ1Kd7DU4W"
      },
      "source": [
        "#### dataloader"
      ]
    },
    {
      "cell_type": "code",
      "metadata": {
        "id": "r5ierOxrDgnh"
      },
      "source": [
        "class windturbine_Dataset(Dataset):\r\n",
        "    def __init__(self, x: np.array, y: np.array):\r\n",
        "        self.x = x\r\n",
        "        self.y = y\r\n",
        "        \r\n",
        "\r\n",
        "    def __getitem__(self, i):\r\n",
        "        return (self.x[i] , self.y[i])\r\n",
        "\r\n",
        "    def __len__(self):\r\n",
        "        return (len(self.y))"
      ],
      "execution_count": 17,
      "outputs": []
    },
    {
      "cell_type": "code",
      "metadata": {
        "colab": {
          "base_uri": "https://localhost:8080/"
        },
        "id": "tXa87xBjxAJU",
        "outputId": "1d8932a0-9261-42e6-bd69-ffa5e3296f7c"
      },
      "source": [
        "x_train.shape[0]"
      ],
      "execution_count": 18,
      "outputs": [
        {
          "output_type": "execute_result",
          "data": {
            "text/plain": [
              "80000"
            ]
          },
          "metadata": {
            "tags": []
          },
          "execution_count": 18
        }
      ]
    },
    {
      "cell_type": "code",
      "metadata": {
        "id": "CKvsEiPZDUfO"
      },
      "source": [
        "batch_size=x_train.shape[0]\r\n",
        "\r\n",
        "train_dataset=windturbine_Dataset(x_train.values, y_train.values)\r\n",
        "valid_dataset=windturbine_Dataset(x_valid.values, y_valid.values)\r\n",
        "test_dataset=windturbine_Dataset(x_test.values, y_test.values)\r\n",
        "\r\n",
        "\r\n",
        "train_dataloader = torch.utils.data.DataLoader(train_dataset, batch_size=batch_size, num_workers=5)\r\n",
        "valid_dataloader = torch.utils.data.DataLoader(valid_dataset, batch_size=batch_size, num_workers=5)\r\n",
        "test_dataloader = torch.utils.data.DataLoader(test_dataset, batch_size=batch_size, num_workers=5)"
      ],
      "execution_count": 19,
      "outputs": []
    },
    {
      "cell_type": "markdown",
      "metadata": {
        "id": "sBGkKIdO_0dI"
      },
      "source": [
        "#### model"
      ]
    },
    {
      "cell_type": "code",
      "metadata": {
        "id": "bZ98VGjS_ycf"
      },
      "source": [
        "import torch.nn.functional as F\r\n",
        "\r\n",
        "class Net(torch.nn.Module):\r\n",
        "    def __init__(self):\r\n",
        "        super(Net, self).__init__()\r\n",
        "        self.fc1_1=torch.nn.Linear(680, 512)\r\n",
        "        self.fc1_2=torch.nn.Linear(512, 256)\r\n",
        "        self.fc1_3=torch.nn.Linear(256, 64)\r\n",
        "\r\n",
        "        self.fc2_1=torch.nn.Linear(680, 256)\r\n",
        "        self.fc2_2=torch.nn.Linear(256, 128)\r\n",
        "        self.fc2_3=torch.nn.Linear(128, 64)\r\n",
        "\r\n",
        "        self.fc3_1=torch.nn.Linear(680, 1024)\r\n",
        "        self.fc3_2=torch.nn.Linear(1024, 1024)\r\n",
        "        self.fc3_3=torch.nn.Linear(1024, 64)\r\n",
        "\r\n",
        "        self.fc_full_1=torch.nn.Linear(192, 128)\r\n",
        "        self.fc_full_2=torch.nn.Linear(128, 64)\r\n",
        "        self.fc_full_3=torch.nn.Linear(64, 6)\r\n",
        "\r\n",
        "    def forward(self, x):\r\n",
        "        x1=self.fc1_1(x)\r\n",
        "        x1=F.relu(x1)\r\n",
        "        x1=self.fc1_2(x1)\r\n",
        "        x1=F.relu(x1)\r\n",
        "        x1=self.fc1_3(x1)\r\n",
        "        x1=F.relu(x1)\r\n",
        "\r\n",
        "        x2=self.fc2_1(x)\r\n",
        "        x2=F.relu(x2)\r\n",
        "        x2=self.fc2_2(x2)\r\n",
        "        x2=F.relu(x2)\r\n",
        "        x2=self.fc2_3(x2)\r\n",
        "        x2=F.relu(x2)\r\n",
        "\r\n",
        "        x3=self.fc3_1(x)\r\n",
        "        x3=F.relu(x3)\r\n",
        "        x3=self.fc3_2(x3)\r\n",
        "        x3=F.relu(x3)\r\n",
        "        x3=self.fc3_3(x3)\r\n",
        "        x3=F.relu(x3)\r\n",
        "\r\n",
        "\r\n",
        "        x=torch.cat((x1, x2, x3), dim=1)\r\n",
        "        x=self.fc_full_1(x)\r\n",
        "        x=F.relu(x)\r\n",
        "        x=self.fc_full_2(x)\r\n",
        "        x=F.relu(x)\r\n",
        "        x=self.fc_full_3(x)\r\n",
        "\r\n",
        "        return x\r\n",
        "\r\n",
        "model=Net().to(device)"
      ],
      "execution_count": 45,
      "outputs": []
    },
    {
      "cell_type": "code",
      "metadata": {
        "id": "X4NdVtWbDPYH"
      },
      "source": [
        "#accuracy 계산 함수\r\n",
        "def calc_accuracy(X,Y):\r\n",
        "    max_vals, max_indices = torch.max(X, 1)\r\n",
        "    train_acc = (max_indices == Y).sum().data.cpu().numpy()/max_indices.size()[0]\r\n",
        "    return train_acc"
      ],
      "execution_count": 46,
      "outputs": []
    },
    {
      "cell_type": "markdown",
      "metadata": {
        "id": "8zyssdm6D_q3"
      },
      "source": [
        "#### training session"
      ]
    },
    {
      "cell_type": "code",
      "metadata": {
        "id": "RFmPT_qt4gJX"
      },
      "source": [
        "#hyperparameters\r\n",
        "learning_rate=1e-3\r\n",
        "num_epochs=3000\r\n",
        "log_interval=50"
      ],
      "execution_count": 52,
      "outputs": []
    },
    {
      "cell_type": "code",
      "metadata": {
        "id": "3yrjxX8aEM4X"
      },
      "source": [
        "\r\n",
        "optimizer = torch.optim.Adam(model.parameters(), lr=learning_rate)\r\n",
        "loss_fn = nn.CrossEntropyLoss()\r\n",
        "\r\n",
        "#t_total = len(train_dataloader) * num_epochs\r\n",
        "#warmup_step = int(t_total * warmup_ratio)\r\n",
        "#scheduler = WarmupLinearSchedule(optimizer, warmup_steps=warmup_step, t_total=t_total)"
      ],
      "execution_count": 48,
      "outputs": []
    },
    {
      "cell_type": "code",
      "metadata": {
        "id": "2jMPNDXeEBi6"
      },
      "source": [
        "#이후 모델 파일명 및 submission에 사용하기 위한 변수 선언\r\n",
        "answer=[]\r\n",
        "acc=0\r\n",
        "#starttime=0\r\n",
        "#학습 시작\r\n",
        "for e in range(num_epochs):\r\n",
        "    train_acc = 0.0\r\n",
        "    valid_acc = 0.0\r\n",
        "    model.train()\r\n",
        "    for batch_id, (x_batch, y_batch) in enumerate(train_dataloader):\r\n",
        "        \r\n",
        "        optimizer.zero_grad()\r\n",
        "        x_batch = x_batch.float().to(device)\r\n",
        "        y_batch = y_batch.long().to(device)\r\n",
        "        out = model(x_batch)\r\n",
        "        loss = loss_fn(out, y_batch)\r\n",
        "        loss.backward()\r\n",
        "        #torch.nn.utils.clip_grad_norm_(model.parameters(), max_grad_norm)\r\n",
        "        optimizer.step()\r\n",
        "        #scheduler.step()  \r\n",
        "        train_acc += calc_accuracy(out, y_batch)\r\n",
        "        #if batch_id % log_interval == 0 and batch_id != 0:\r\n",
        "         #   print(\"epoch {} batch id {} loss {} train acc {}\".format(e+1, batch_id+1, loss.data.cpu().numpy(), train_acc / (batch_id+1)))\r\n",
        "    if e%log_interval == 0:\r\n",
        "        print(\"epoch {} train acc {}\".format(e+1, train_acc / (batch_id+1)))\r\n",
        "        '''\r\n",
        "        model.eval()\r\n",
        "        for batch_id, (x_batch, y_batch) in enumerate(valid_dataloader):\r\n",
        "            with torch.no_grad():\r\n",
        "                x_batch = x_batch.float().to(device)\r\n",
        "                y_batch = y_batch.long().to(device)\r\n",
        "                out = model(x_batch)\r\n",
        "                valid_acc += calc_accuracy(out, y_batch)\r\n",
        "\r\n",
        "            print(\"\\tvalid acc {}\".format(valid_acc))\r\n",
        "        '''"
      ],
      "execution_count": null,
      "outputs": []
    },
    {
      "cell_type": "code",
      "metadata": {
        "colab": {
          "base_uri": "https://localhost:8080/"
        },
        "id": "YpxIbDoCHNB7",
        "outputId": "bc8ba94d-40e9-4d68-dbbb-f88112413ad5"
      },
      "source": [
        "!nvidia-smi"
      ],
      "execution_count": null,
      "outputs": [
        {
          "output_type": "stream",
          "text": [
            "Tue Feb 23 13:44:47 2021       \n",
            "+-----------------------------------------------------------------------------+\n",
            "| NVIDIA-SMI 460.39       Driver Version: 460.32.03    CUDA Version: 11.2     |\n",
            "|-------------------------------+----------------------+----------------------+\n",
            "| GPU  Name        Persistence-M| Bus-Id        Disp.A | Volatile Uncorr. ECC |\n",
            "| Fan  Temp  Perf  Pwr:Usage/Cap|         Memory-Usage | GPU-Util  Compute M. |\n",
            "|                               |                      |               MIG M. |\n",
            "|===============================+======================+======================|\n",
            "|   0  Tesla T4            Off  | 00000000:00:04.0 Off |                    0 |\n",
            "| N/A   75C    P0    33W /  70W |   1376MiB / 15109MiB |      0%      Default |\n",
            "|                               |                      |                  N/A |\n",
            "+-------------------------------+----------------------+----------------------+\n",
            "                                                                               \n",
            "+-----------------------------------------------------------------------------+\n",
            "| Processes:                                                                  |\n",
            "|  GPU   GI   CI        PID   Type   Process name                  GPU Memory |\n",
            "|        ID   ID                                                   Usage      |\n",
            "|=============================================================================|\n",
            "+-----------------------------------------------------------------------------+\n"
          ],
          "name": "stdout"
        }
      ]
    },
    {
      "cell_type": "code",
      "metadata": {
        "id": "8nSc3rOlHkGb"
      },
      "source": [
        "#평가 부분 작성"
      ],
      "execution_count": null,
      "outputs": []
    },
    {
      "cell_type": "code",
      "metadata": {
        "id": "ixeCxJilIveD"
      },
      "source": [
        ""
      ],
      "execution_count": null,
      "outputs": []
    }
  ]
}
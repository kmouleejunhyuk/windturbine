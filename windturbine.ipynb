{
  "nbformat": 4,
  "nbformat_minor": 0,
  "metadata": {
    "colab": {
      "name": "windturbine.ipynb",
      "provenance": [],
      "collapsed_sections": [],
      "authorship_tag": "ABX9TyN0S50GIHQYesEE/YEw5M9O",
      "include_colab_link": true
    },
    "kernelspec": {
      "name": "python3",
      "display_name": "Python 3"
    }
  },
  "cells": [
    {
      "cell_type": "markdown",
      "metadata": {
        "id": "view-in-github",
        "colab_type": "text"
      },
      "source": [
        "<a href=\"https://colab.research.google.com/github/kmouleejunhyuk/windturbine/blob/main/windturbine.ipynb\" target=\"_parent\"><img src=\"https://colab.research.google.com/assets/colab-badge.svg\" alt=\"Open In Colab\"/></a>"
      ]
    },
    {
      "cell_type": "markdown",
      "metadata": {
        "id": "CY9Esztqkmet"
      },
      "source": [
        "#### 풍력발전기 상태이상 판별 과제"
      ]
    },
    {
      "cell_type": "code",
      "metadata": {
        "id": "f6LAtspYkyc9"
      },
      "source": [
        "###\r\n",
        "#python, pytorch\r\n",
        "#data not encluded due to copyrights issue"
      ],
      "execution_count": 1,
      "outputs": []
    },
    {
      "cell_type": "code",
      "metadata": {
        "id": "mE4-iB_ikxfx"
      },
      "source": [
        "import torch\r\n",
        "from torch import nn\r\n",
        "import torch.nn.functional as F\r\n",
        "import torch.optim as optim\r\n",
        "from torch.utils.data import Dataset, DataLoader\r\n",
        "\r\n",
        "import pandas as pd\r\n",
        "import numpy as np\r\n",
        "import matplotlib.pyplot as plt\r\n",
        "\r\n",
        "import sys\r\n",
        "import time\r\n",
        "import random"
      ],
      "execution_count": 5,
      "outputs": []
    },
    {
      "cell_type": "code",
      "metadata": {
        "colab": {
          "base_uri": "https://localhost:8080/"
        },
        "id": "_DY0nL5Yk49E",
        "outputId": "b95636a2-6b42-43f9-97a1-98f41a8c23d9"
      },
      "source": [
        "#구글 드라이브 마운트 & 경로설정\r\n",
        "from google.colab import drive\r\n",
        "drive.mount('/gdrive')\r\n",
        "\r\n",
        "PATH='/gdrive/My Drive/windturbine'"
      ],
      "execution_count": 3,
      "outputs": [
        {
          "output_type": "stream",
          "text": [
            "Mounted at /gdrive\n"
          ],
          "name": "stdout"
        }
      ]
    },
    {
      "cell_type": "code",
      "metadata": {
        "id": "fI3YppfplI8k"
      },
      "source": [
        "#seed for reproducability\r\n",
        "random_seed=49   #44159\r\n",
        "torch.manual_seed(random_seed)\r\n",
        "torch.backends.cudnn.deterministic = True\r\n",
        "torch.backends.cudnn.benchmark = False\r\n",
        "np.random.seed(random_seed)\r\n",
        "random.seed(random_seed)"
      ],
      "execution_count": 4,
      "outputs": []
    },
    {
      "cell_type": "markdown",
      "metadata": {
        "id": "r_5Bk6ifvVKQ"
      },
      "source": [
        "#### Data loading and EDA"
      ]
    },
    {
      "cell_type": "code",
      "metadata": {
        "id": "UGAjBGWumJZM"
      },
      "source": [
        "#data import\r\n",
        "train_raw=pd.read_csv(PATH+'/training_data_set.csv')\r\n",
        "test_raw=pd.read_csv(PATH+'/validation_data_set.csv')"
      ],
      "execution_count": 6,
      "outputs": []
    },
    {
      "cell_type": "code",
      "metadata": {
        "id": "Ku0js4m-miDV"
      },
      "source": [
        "#EDA helper function\r\n",
        "def EDA(df: pd.DataFrame):\r\n",
        "    print(df.head(), '\\n')\r\n",
        "    print(df.dtypes, '\\n')\r\n",
        "\r\n",
        "    for _ in df.columns:\r\n",
        "        if df[_].isna().sum() != 0 or df[_].dtypes != 'float64':\r\n",
        "            #static information\r\n",
        "            print('column '+ _ + ' static info')\r\n",
        "            print('max:', '\\t\\t', df[_].max())\r\n",
        "            print('min:', '\\t\\t', df[_].min())\r\n",
        "            print('avg:', '\\t\\t', df[_].mean())\r\n",
        "            print('count of na: ', '\\t\\t', df[_].isna().sum())\r\n",
        "            print('unique values: ', '\\t\\t', df[_].nunique(dropna=False))\r\n",
        "\r\n",
        "            #plot boxplot by column\r\n",
        "            source=df[_].copy()\r\n",
        "            plt.rcParams['figure.figsize']=[10, 6]\r\n",
        "            plt.title(_)\r\n",
        "            plt.boxplot(source, notch=1, sym='rs', vert=0)\r\n",
        "            plt.show()\r\n",
        "            plt.close()\r\n",
        "            print('\\n')\r\n",
        "\r\n",
        "        #else: print('no na and float value in column {}. max: {}, min: {}, avg: {} \\n'.format(_, df[_].max(), df[_].min(), df[_].mean()))"
      ],
      "execution_count": 17,
      "outputs": []
    },
    {
      "cell_type": "code",
      "metadata": {
        "colab": {
          "base_uri": "https://localhost:8080/",
          "height": 1000
        },
        "id": "13z1e51Tq45j",
        "outputId": "391958d7-b02e-45f2-b19d-df09398a6fb9"
      },
      "source": [
        "EDA(train_raw)"
      ],
      "execution_count": 18,
      "outputs": [
        {
          "output_type": "stream",
          "text": [
            "          1         2    3    4         5  ...  682  683  684  685  686\n",
            "0  0.621211  0.771822  0.5  0.5  0.618948  ...    0    0    0    0    1\n",
            "1  0.624648  0.319315  0.5  0.5  0.625634  ...    0    0    0    0    1\n",
            "2  0.625174  0.244754  0.5  0.5  0.626474  ...    0    0    0    0    1\n",
            "3  0.628112  0.266645  0.5  0.5  0.627791  ...    0    0    0    0    1\n",
            "4  0.629918  0.204191  0.5  0.5  0.629838  ...    0    0    0    0    1\n",
            "\n",
            "[5 rows x 686 columns] \n",
            "\n",
            "1      float64\n",
            "2      float64\n",
            "3      float64\n",
            "4      float64\n",
            "5      float64\n",
            "        ...   \n",
            "682      int64\n",
            "683      int64\n",
            "684      int64\n",
            "685      int64\n",
            "686      int64\n",
            "Length: 686, dtype: object \n",
            "\n",
            "column 681 static info\n",
            "max: \t\t 1\n",
            "min: \t\t 0\n",
            "avg: \t\t 0.1825\n",
            "count of na:  \t\t 0\n",
            "unique values:  \t\t 2\n"
          ],
          "name": "stdout"
        },
        {
          "output_type": "display_data",
          "data": {
            "image/png": "[encoded data removed]",
            "text/plain": [
              "<Figure size 720x432 with 1 Axes>"
            ]
          },
          "metadata": {
            "tags": [],
            "needs_background": "light"
          }
        },
        {
          "output_type": "stream",
          "text": [
            "\n",
            "\n",
            "column 682 static info\n",
            "max: \t\t 1\n",
            "min: \t\t 0\n",
            "avg: \t\t 0.1825\n",
            "count of na:  \t\t 0\n",
            "unique values:  \t\t 2\n"
          ],
          "name": "stdout"
        },
        {
          "output_type": "display_data",
          "data": {
            "image/png": "[encoded data removed]",
            "text/plain": [
              "<Figure size 720x432 with 1 Axes>"
            ]
          },
          "metadata": {
            "tags": [],
            "needs_background": "light"
          }
        },
        {
          "output_type": "stream",
          "text": [
            "\n",
            "\n",
            "column 683 static info\n",
            "max: \t\t 1\n",
            "min: \t\t 0\n",
            "avg: \t\t 0.14625\n",
            "count of na:  \t\t 0\n",
            "unique values:  \t\t 2\n"
          ],
          "name": "stdout"
        },
        {
          "output_type": "display_data",
          "data": {
            "image/png": "[encoded data removed]",
            "text/plain": [
              "<Figure size 720x432 with 1 Axes>"
            ]
          },
          "metadata": {
            "tags": [],
            "needs_background": "light"
          }
        },
        {
          "output_type": "stream",
          "text": [
            "\n",
            "\n",
            "column 684 static info\n",
            "max: \t\t 1\n",
            "min: \t\t 0\n",
            "avg: \t\t 0.1625\n",
            "count of na:  \t\t 0\n",
            "unique values:  \t\t 2\n"
          ],
          "name": "stdout"
        },
        {
          "output_type": "display_data",
          "data": {
            "image/png": "[encoded data removed]",
            "text/plain": [
              "<Figure size 720x432 with 1 Axes>"
            ]
          },
          "metadata": {
            "tags": [],
            "needs_background": "light"
          }
        },
        {
          "output_type": "stream",
          "text": [
            "\n",
            "\n",
            "column 685 static info\n",
            "max: \t\t 1\n",
            "min: \t\t 0\n",
            "avg: \t\t 0.16375\n",
            "count of na:  \t\t 0\n",
            "unique values:  \t\t 2\n"
          ],
          "name": "stdout"
        },
        {
          "output_type": "display_data",
          "data": {
            "image/png": "[encoded data removed]",
            "text/plain": [
              "<Figure size 720x432 with 1 Axes>"
            ]
          },
          "metadata": {
            "tags": [],
            "needs_background": "light"
          }
        },
        {
          "output_type": "stream",
          "text": [
            "\n",
            "\n",
            "column 686 static info\n",
            "max: \t\t 1\n",
            "min: \t\t 0\n",
            "avg: \t\t 0.1625\n",
            "count of na:  \t\t 0\n",
            "unique values:  \t\t 2\n"
          ],
          "name": "stdout"
        },
        {
          "output_type": "display_data",
          "data": {
            "image/png": "[encoded data removed]",
            "text/plain": [
              "<Figure size 720x432 with 1 Axes>"
            ]
          },
          "metadata": {
            "tags": [],
            "needs_background": "light"
          }
        },
        {
          "output_type": "stream",
          "text": [
            "\n",
            "\n"
          ],
          "name": "stdout"
        }
      ]
    },
    {
      "cell_type": "code",
      "metadata": {
        "colab": {
          "base_uri": "https://localhost:8080/",
          "height": 1000
        },
        "id": "PIOxp4k2trwy",
        "outputId": "15930047-d0fe-496a-afc0-70dd98130fef"
      },
      "source": [
        "EDA(test_raw)"
      ],
      "execution_count": 19,
      "outputs": [
        {
          "output_type": "stream",
          "text": [
            "          1         2    3    4         5  ...  682  683  684  685  686\n",
            "0  1.019280  1.240127  0.5  0.5  1.018462  ...    0    0    0    0    1\n",
            "1  1.019262  1.248247  0.5  0.5  1.018890  ...    0    0    0    0    1\n",
            "2  1.023792  1.286444  0.5  0.5  1.024392  ...    0    0    0    0    1\n",
            "3  1.023431  1.364974  0.5  0.5  1.023545  ...    0    0    0    0    1\n",
            "4  1.018795  1.277456  0.5  0.5  1.021053  ...    0    0    0    0    1\n",
            "\n",
            "[5 rows x 686 columns] \n",
            "\n",
            "1      float64\n",
            "2      float64\n",
            "3      float64\n",
            "4      float64\n",
            "5      float64\n",
            "        ...   \n",
            "682      int64\n",
            "683      int64\n",
            "684      int64\n",
            "685      int64\n",
            "686      int64\n",
            "Length: 686, dtype: object \n",
            "\n",
            "column 681 static info\n",
            "max: \t\t 1\n",
            "min: \t\t 0\n",
            "avg: \t\t 0.19\n",
            "count of na:  \t\t 0\n",
            "unique values:  \t\t 2\n"
          ],
          "name": "stdout"
        },
        {
          "output_type": "display_data",
          "data": {
            "image/png": "[encoded data removed]",
            "text/plain": [
              "<Figure size 720x432 with 1 Axes>"
            ]
          },
          "metadata": {
            "tags": [],
            "needs_background": "light"
          }
        },
        {
          "output_type": "stream",
          "text": [
            "\n",
            "\n",
            "column 682 static info\n",
            "max: \t\t 1\n",
            "min: \t\t 0\n",
            "avg: \t\t 0.13\n",
            "count of na:  \t\t 0\n",
            "unique values:  \t\t 2\n"
          ],
          "name": "stdout"
        },
        {
          "output_type": "display_data",
          "data": {
            "image/png": "[encoded data removed]",
            "text/plain": [
              "<Figure size 720x432 with 1 Axes>"
            ]
          },
          "metadata": {
            "tags": [],
            "needs_background": "light"
          }
        },
        {
          "output_type": "stream",
          "text": [
            "\n",
            "\n",
            "column 683 static info\n",
            "max: \t\t 1\n",
            "min: \t\t 0\n",
            "avg: \t\t 0.19\n",
            "count of na:  \t\t 0\n",
            "unique values:  \t\t 2\n"
          ],
          "name": "stdout"
        },
        {
          "output_type": "display_data",
          "data": {
            "image/png": "[encoded data removed]",
            "text/plain": [
              "<Figure size 720x432 with 1 Axes>"
            ]
          },
          "metadata": {
            "tags": [],
            "needs_background": "light"
          }
        },
        {
          "output_type": "stream",
          "text": [
            "\n",
            "\n",
            "column 684 static info\n",
            "max: \t\t 1\n",
            "min: \t\t 0\n",
            "avg: \t\t 0.13\n",
            "count of na:  \t\t 0\n",
            "unique values:  \t\t 2\n"
          ],
          "name": "stdout"
        },
        {
          "output_type": "display_data",
          "data": {
            "image/png": "[encoded data removed]",
            "text/plain": [
              "<Figure size 720x432 with 1 Axes>"
            ]
          },
          "metadata": {
            "tags": [],
            "needs_background": "light"
          }
        },
        {
          "output_type": "stream",
          "text": [
            "\n",
            "\n",
            "column 685 static info\n",
            "max: \t\t 1\n",
            "min: \t\t 0\n",
            "avg: \t\t 0.22\n",
            "count of na:  \t\t 0\n",
            "unique values:  \t\t 2\n"
          ],
          "name": "stdout"
        },
        {
          "output_type": "display_data",
          "data": {
            "image/png": "[encoded data removed]",
            "text/plain": [
              "<Figure size 720x432 with 1 Axes>"
            ]
          },
          "metadata": {
            "tags": [],
            "needs_background": "light"
          }
        },
        {
          "output_type": "stream",
          "text": [
            "\n",
            "\n",
            "column 686 static info\n",
            "max: \t\t 1\n",
            "min: \t\t 0\n",
            "avg: \t\t 0.14\n",
            "count of na:  \t\t 0\n",
            "unique values:  \t\t 2\n"
          ],
          "name": "stdout"
        },
        {
          "output_type": "display_data",
          "data": {
            "image/png": "[encoded data removed]",
            "text/plain": [
              "<Figure size 720x432 with 1 Axes>"
            ]
          },
          "metadata": {
            "tags": [],
            "needs_background": "light"
          }
        },
        {
          "output_type": "stream",
          "text": [
            "\n",
            "\n"
          ],
          "name": "stdout"
        }
      ]
    },
    {
      "cell_type": "code",
      "metadata": {
        "id": "0sguTYBcu5Bx"
      },
      "source": [
        "##column 681~686 seems to be one-hot encoded target value"
      ],
      "execution_count": null,
      "outputs": []
    },
    {
      "cell_type": "code",
      "metadata": {
        "id": "JzZcUgGrkgko"
      },
      "source": [
        ""
      ],
      "execution_count": null,
      "outputs": []
    }
  ]
}
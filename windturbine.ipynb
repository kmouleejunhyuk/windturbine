{
  "nbformat": 4,
  "nbformat_minor": 0,
  "metadata": {
    "colab": {
      "name": "windturbine.ipynb",
      "provenance": [],
      "collapsed_sections": [],
      "authorship_tag": "ABX9TyPAWoWO9fxD10NXZAJd23/7",
      "include_colab_link": true
    },
    "kernelspec": {
      "name": "python3",
      "display_name": "Python 3"
    },
    "accelerator": "GPU",
    "widgets": {
      "application/vnd.jupyter.widget-state+json": {
        "05908e76212744f9a888deeb94f29786": {
          "model_module": "@jupyter-widgets/controls",
          "model_name": "HBoxModel",
          "state": {
            "_view_name": "HBoxView",
            "_dom_classes": [],
            "_model_name": "HBoxModel",
            "_view_module": "@jupyter-widgets/controls",
            "_model_module_version": "1.5.0",
            "_view_count": null,
            "_view_module_version": "1.5.0",
            "box_style": "",
            "layout": "IPY_MODEL_83abf640cc434e57bd7fa872c3cf9a19",
            "_model_module": "@jupyter-widgets/controls",
            "children": [
              "IPY_MODEL_dbda19e654654b1fada54569306762b2",
              "IPY_MODEL_d5472ed724ce413294361b10385732f8"
            ]
          }
        },
        "83abf640cc434e57bd7fa872c3cf9a19": {
          "model_module": "@jupyter-widgets/base",
          "model_name": "LayoutModel",
          "state": {
            "_view_name": "LayoutView",
            "grid_template_rows": null,
            "right": null,
            "justify_content": null,
            "_view_module": "@jupyter-widgets/base",
            "overflow": null,
            "_model_module_version": "1.2.0",
            "_view_count": null,
            "flex_flow": null,
            "width": null,
            "min_width": null,
            "border": null,
            "align_items": null,
            "bottom": null,
            "_model_module": "@jupyter-widgets/base",
            "top": null,
            "grid_column": null,
            "overflow_y": null,
            "overflow_x": null,
            "grid_auto_flow": null,
            "grid_area": null,
            "grid_template_columns": null,
            "flex": null,
            "_model_name": "LayoutModel",
            "justify_items": null,
            "grid_row": null,
            "max_height": null,
            "align_content": null,
            "visibility": null,
            "align_self": null,
            "height": null,
            "min_height": null,
            "padding": null,
            "grid_auto_rows": null,
            "grid_gap": null,
            "max_width": null,
            "order": null,
            "_view_module_version": "1.2.0",
            "grid_template_areas": null,
            "object_position": null,
            "object_fit": null,
            "grid_auto_columns": null,
            "margin": null,
            "display": null,
            "left": null
          }
        },
        "dbda19e654654b1fada54569306762b2": {
          "model_module": "@jupyter-widgets/controls",
          "model_name": "FloatProgressModel",
          "state": {
            "_view_name": "ProgressView",
            "style": "IPY_MODEL_eefb8d0983ef4263b814f5c522640072",
            "_dom_classes": [],
            "description": "100%",
            "_model_name": "FloatProgressModel",
            "bar_style": "success",
            "max": 1600,
            "_view_module": "@jupyter-widgets/controls",
            "_model_module_version": "1.5.0",
            "value": 1600,
            "_view_count": null,
            "_view_module_version": "1.5.0",
            "orientation": "horizontal",
            "min": 0,
            "description_tooltip": null,
            "_model_module": "@jupyter-widgets/controls",
            "layout": "IPY_MODEL_71f759db807b49ac8c795674562bcd93"
          }
        },
        "d5472ed724ce413294361b10385732f8": {
          "model_module": "@jupyter-widgets/controls",
          "model_name": "HTMLModel",
          "state": {
            "_view_name": "HTMLView",
            "style": "IPY_MODEL_cb7a55dd888b4ab780bf051f4911f2a2",
            "_dom_classes": [],
            "description": "",
            "_model_name": "HTMLModel",
            "placeholder": "​",
            "_view_module": "@jupyter-widgets/controls",
            "_model_module_version": "1.5.0",
            "value": " 1600/1600 [54:42&lt;00:00,  2.05s/it]",
            "_view_count": null,
            "_view_module_version": "1.5.0",
            "description_tooltip": null,
            "_model_module": "@jupyter-widgets/controls",
            "layout": "IPY_MODEL_792db9ab7c4049119325b4b39301008f"
          }
        },
        "eefb8d0983ef4263b814f5c522640072": {
          "model_module": "@jupyter-widgets/controls",
          "model_name": "ProgressStyleModel",
          "state": {
            "_view_name": "StyleView",
            "_model_name": "ProgressStyleModel",
            "description_width": "initial",
            "_view_module": "@jupyter-widgets/base",
            "_model_module_version": "1.5.0",
            "_view_count": null,
            "_view_module_version": "1.2.0",
            "bar_color": null,
            "_model_module": "@jupyter-widgets/controls"
          }
        },
        "71f759db807b49ac8c795674562bcd93": {
          "model_module": "@jupyter-widgets/base",
          "model_name": "LayoutModel",
          "state": {
            "_view_name": "LayoutView",
            "grid_template_rows": null,
            "right": null,
            "justify_content": null,
            "_view_module": "@jupyter-widgets/base",
            "overflow": null,
            "_model_module_version": "1.2.0",
            "_view_count": null,
            "flex_flow": null,
            "width": null,
            "min_width": null,
            "border": null,
            "align_items": null,
            "bottom": null,
            "_model_module": "@jupyter-widgets/base",
            "top": null,
            "grid_column": null,
            "overflow_y": null,
            "overflow_x": null,
            "grid_auto_flow": null,
            "grid_area": null,
            "grid_template_columns": null,
            "flex": null,
            "_model_name": "LayoutModel",
            "justify_items": null,
            "grid_row": null,
            "max_height": null,
            "align_content": null,
            "visibility": null,
            "align_self": null,
            "height": null,
            "min_height": null,
            "padding": null,
            "grid_auto_rows": null,
            "grid_gap": null,
            "max_width": null,
            "order": null,
            "_view_module_version": "1.2.0",
            "grid_template_areas": null,
            "object_position": null,
            "object_fit": null,
            "grid_auto_columns": null,
            "margin": null,
            "display": null,
            "left": null
          }
        },
        "cb7a55dd888b4ab780bf051f4911f2a2": {
          "model_module": "@jupyter-widgets/controls",
          "model_name": "DescriptionStyleModel",
          "state": {
            "_view_name": "StyleView",
            "_model_name": "DescriptionStyleModel",
            "description_width": "",
            "_view_module": "@jupyter-widgets/base",
            "_model_module_version": "1.5.0",
            "_view_count": null,
            "_view_module_version": "1.2.0",
            "_model_module": "@jupyter-widgets/controls"
          }
        },
        "792db9ab7c4049119325b4b39301008f": {
          "model_module": "@jupyter-widgets/base",
          "model_name": "LayoutModel",
          "state": {
            "_view_name": "LayoutView",
            "grid_template_rows": null,
            "right": null,
            "justify_content": null,
            "_view_module": "@jupyter-widgets/base",
            "overflow": null,
            "_model_module_version": "1.2.0",
            "_view_count": null,
            "flex_flow": null,
            "width": null,
            "min_width": null,
            "border": null,
            "align_items": null,
            "bottom": null,
            "_model_module": "@jupyter-widgets/base",
            "top": null,
            "grid_column": null,
            "overflow_y": null,
            "overflow_x": null,
            "grid_auto_flow": null,
            "grid_area": null,
            "grid_template_columns": null,
            "flex": null,
            "_model_name": "LayoutModel",
            "justify_items": null,
            "grid_row": null,
            "max_height": null,
            "align_content": null,
            "visibility": null,
            "align_self": null,
            "height": null,
            "min_height": null,
            "padding": null,
            "grid_auto_rows": null,
            "grid_gap": null,
            "max_width": null,
            "order": null,
            "_view_module_version": "1.2.0",
            "grid_template_areas": null,
            "object_position": null,
            "object_fit": null,
            "grid_auto_columns": null,
            "margin": null,
            "display": null,
            "left": null
          }
        }
      }
    }
  },
  "cells": [
    {
      "cell_type": "markdown",
      "metadata": {
        "id": "view-in-github",
        "colab_type": "text"
      },
      "source": [
        "<a href=\"https://colab.research.google.com/github/kmouleejunhyuk/windturbine/blob/main/windturbine.ipynb\" target=\"_parent\"><img src=\"https://colab.research.google.com/assets/colab-badge.svg\" alt=\"Open In Colab\"/></a>"
      ]
    },
    {
      "cell_type": "markdown",
      "metadata": {
        "id": "CY9Esztqkmet"
      },
      "source": [
        "#### 풍력발전기 상태이상 판별 과제"
      ]
    },
    {
      "cell_type": "code",
      "metadata": {
        "id": "f6LAtspYkyc9"
      },
      "source": [
        "###\r\n",
        "#python, pytorch\r\n",
        "#data not encluded due to copyrights issue"
      ],
      "execution_count": 1,
      "outputs": []
    },
    {
      "cell_type": "code",
      "metadata": {
        "id": "mE4-iB_ikxfx"
      },
      "source": [
        "import torch\r\n",
        "from torch import nn\r\n",
        "import torch.nn.functional as F\r\n",
        "import torch.optim as optim\r\n",
        "from torch.utils.data import Dataset, DataLoader\r\n",
        "\r\n",
        "import pandas as pd\r\n",
        "import numpy as np\r\n",
        "import matplotlib.pyplot as plt\r\n",
        "from tqdm import tqdm, tqdm_notebook\r\n",
        "\r\n",
        "import sys\r\n",
        "import time\r\n",
        "import random"
      ],
      "execution_count": 2,
      "outputs": []
    },
    {
      "cell_type": "code",
      "metadata": {
        "colab": {
          "base_uri": "https://localhost:8080/"
        },
        "id": "_DY0nL5Yk49E",
        "outputId": "4a624b43-4824-4272-ae60-f0ed7ca80f57"
      },
      "source": [
        "#구글 드라이브 마운트 & 경로설정\r\n",
        "from google.colab import drive\r\n",
        "drive.mount('/gdrive')\r\n",
        "\r\n",
        "PATH='/gdrive/My Drive/windturbine'"
      ],
      "execution_count": 3,
      "outputs": [
        {
          "output_type": "stream",
          "text": [
            "Mounted at /gdrive\n"
          ],
          "name": "stdout"
        }
      ]
    },
    {
      "cell_type": "code",
      "metadata": {
        "colab": {
          "base_uri": "https://localhost:8080/"
        },
        "id": "1BTqRs2r1FOO",
        "outputId": "d66aba33-f351-4edb-b4fe-b93c20a8af88"
      },
      "source": [
        "device = torch.device('cuda' if torch.cuda.is_available() else 'cpu')\r\n",
        "print(\"using device: \", device)"
      ],
      "execution_count": 4,
      "outputs": [
        {
          "output_type": "stream",
          "text": [
            "using device:  cuda\n"
          ],
          "name": "stdout"
        }
      ]
    },
    {
      "cell_type": "code",
      "metadata": {
        "id": "fI3YppfplI8k"
      },
      "source": [
        "#seed for reproducability\r\n",
        "random_seed=49   #44159\r\n",
        "torch.manual_seed(random_seed)\r\n",
        "torch.backends.cudnn.deterministic = True\r\n",
        "torch.backends.cudnn.benchmark = False\r\n",
        "np.random.seed(random_seed)\r\n",
        "random.seed(random_seed)"
      ],
      "execution_count": 5,
      "outputs": []
    },
    {
      "cell_type": "markdown",
      "metadata": {
        "id": "r_5Bk6ifvVKQ"
      },
      "source": [
        "#### Data loading and EDA"
      ]
    },
    {
      "cell_type": "code",
      "metadata": {
        "id": "UGAjBGWumJZM"
      },
      "source": [
        "#data import\r\n",
        "train_raw=pd.read_csv(PATH+'/training_data_set.csv')\r\n",
        "test_raw=pd.read_csv(PATH+'/validation_data_set.csv')"
      ],
      "execution_count": 6,
      "outputs": []
    },
    {
      "cell_type": "code",
      "metadata": {
        "id": "Ku0js4m-miDV"
      },
      "source": [
        "#EDA helper function\r\n",
        "def EDA(df: pd.DataFrame):\r\n",
        "    print(df.head(), '\\n')\r\n",
        "    print(df.dtypes, '\\n')\r\n",
        "\r\n",
        "    for _ in df.columns:\r\n",
        "        if df[_].isna().sum() != 0 or df[_].dtypes != 'float64':\r\n",
        "            #static information\r\n",
        "            print('column '+ _ + ' static info')\r\n",
        "            print('max:', '\\t\\t', df[_].max())\r\n",
        "            print('min:', '\\t\\t', df[_].min())\r\n",
        "            print('avg:', '\\t\\t', df[_].mean())\r\n",
        "            print('count of na: ', '\\t\\t', df[_].isna().sum())\r\n",
        "            print('unique values: ', '\\t\\t', df[_].nunique(dropna=False))\r\n",
        "\r\n",
        "            #plot boxplot by column\r\n",
        "            source=df[_].copy()\r\n",
        "            plt.rcParams['figure.figsize']=[10, 6]\r\n",
        "            plt.title(_)\r\n",
        "            plt.boxplot(source, notch=1, sym='rs', vert=0)\r\n",
        "            plt.show()\r\n",
        "            plt.close()\r\n",
        "            print('\\n')\r\n",
        "\r\n",
        "        #else: print('no na and float value in column {}. max: {}, min: {}, avg: {} \\n'.format(_, df[_].max(), df[_].min(), df[_].mean()))"
      ],
      "execution_count": 7,
      "outputs": []
    },
    {
      "cell_type": "code",
      "metadata": {
        "colab": {
          "base_uri": "https://localhost:8080/",
          "height": 1000
        },
        "id": "13z1e51Tq45j",
        "outputId": "448502fa-f992-4cdb-fab6-ec0e8c0b9288"
      },
      "source": [
        "EDA(train_raw)"
      ],
      "execution_count": 8,
      "outputs": [
        {
          "output_type": "stream",
          "text": [
            "          1         2    3    4         5  ...  682  683  684  685  686\n",
            "0  0.621211  0.771822  0.5  0.5  0.618948  ...    0    0    0    0    1\n",
            "1  0.624648  0.319315  0.5  0.5  0.625634  ...    0    0    0    0    1\n",
            "2  0.625174  0.244754  0.5  0.5  0.626474  ...    0    0    0    0    1\n",
            "3  0.628112  0.266645  0.5  0.5  0.627791  ...    0    0    0    0    1\n",
            "4  0.629918  0.204191  0.5  0.5  0.629838  ...    0    0    0    0    1\n",
            "\n",
            "[5 rows x 686 columns] \n",
            "\n",
            "1      float64\n",
            "2      float64\n",
            "3      float64\n",
            "4      float64\n",
            "5      float64\n",
            "        ...   \n",
            "682      int64\n",
            "683      int64\n",
            "684      int64\n",
            "685      int64\n",
            "686      int64\n",
            "Length: 686, dtype: object \n",
            "\n",
            "column 681 static info\n",
            "max: \t\t 1\n",
            "min: \t\t 0\n",
            "avg: \t\t 0.1825\n",
            "count of na:  \t\t 0\n",
            "unique values:  \t\t 2\n"
          ],
          "name": "stdout"
        },
        {
          "output_type": "display_data",
          "data": {
            "image/png": "[encoded data removed]",
            "text/plain": [
              "<Figure size 720x432 with 1 Axes>"
            ]
          },
          "metadata": {
            "tags": [],
            "needs_background": "light"
          }
        },
        {
          "output_type": "stream",
          "text": [
            "\n",
            "\n",
            "column 682 static info\n",
            "max: \t\t 1\n",
            "min: \t\t 0\n",
            "avg: \t\t 0.1825\n",
            "count of na:  \t\t 0\n",
            "unique values:  \t\t 2\n"
          ],
          "name": "stdout"
        },
        {
          "output_type": "display_data",
          "data": {
            "image/png": "[encoded data removed]",
            "text/plain": [
              "<Figure size 720x432 with 1 Axes>"
            ]
          },
          "metadata": {
            "tags": [],
            "needs_background": "light"
          }
        },
        {
          "output_type": "stream",
          "text": [
            "\n",
            "\n",
            "column 683 static info\n",
            "max: \t\t 1\n",
            "min: \t\t 0\n",
            "avg: \t\t 0.14625\n",
            "count of na:  \t\t 0\n",
            "unique values:  \t\t 2\n"
          ],
          "name": "stdout"
        },
        {
          "output_type": "display_data",
          "data": {
            "image/png": "[encoded data removed]",
            "text/plain": [
              "<Figure size 720x432 with 1 Axes>"
            ]
          },
          "metadata": {
            "tags": [],
            "needs_background": "light"
          }
        },
        {
          "output_type": "stream",
          "text": [
            "\n",
            "\n",
            "column 684 static info\n",
            "max: \t\t 1\n",
            "min: \t\t 0\n",
            "avg: \t\t 0.1625\n",
            "count of na:  \t\t 0\n",
            "unique values:  \t\t 2\n"
          ],
          "name": "stdout"
        },
        {
          "output_type": "display_data",
          "data": {
            "image/png": "[encoded data removed]",
            "text/plain": [
              "<Figure size 720x432 with 1 Axes>"
            ]
          },
          "metadata": {
            "tags": [],
            "needs_background": "light"
          }
        },
        {
          "output_type": "stream",
          "text": [
            "\n",
            "\n",
            "column 685 static info\n",
            "max: \t\t 1\n",
            "min: \t\t 0\n",
            "avg: \t\t 0.16375\n",
            "count of na:  \t\t 0\n",
            "unique values:  \t\t 2\n"
          ],
          "name": "stdout"
        },
        {
          "output_type": "display_data",
          "data": {
            "image/png": "[encoded data removed]",
            "text/plain": [
              "<Figure size 720x432 with 1 Axes>"
            ]
          },
          "metadata": {
            "tags": [],
            "needs_background": "light"
          }
        },
        {
          "output_type": "stream",
          "text": [
            "\n",
            "\n",
            "column 686 static info\n",
            "max: \t\t 1\n",
            "min: \t\t 0\n",
            "avg: \t\t 0.1625\n",
            "count of na:  \t\t 0\n",
            "unique values:  \t\t 2\n"
          ],
          "name": "stdout"
        },
        {
          "output_type": "display_data",
          "data": {
            "image/png": "[encoded data removed]",
            "text/plain": [
              "<Figure size 720x432 with 1 Axes>"
            ]
          },
          "metadata": {
            "tags": [],
            "needs_background": "light"
          }
        },
        {
          "output_type": "stream",
          "text": [
            "\n",
            "\n"
          ],
          "name": "stdout"
        }
      ]
    },
    {
      "cell_type": "code",
      "metadata": {
        "colab": {
          "base_uri": "https://localhost:8080/",
          "height": 1000
        },
        "id": "PIOxp4k2trwy",
        "outputId": "d10fc1fe-771a-46c2-8d28-8248fe8dd42d"
      },
      "source": [
        "EDA(test_raw)"
      ],
      "execution_count": 9,
      "outputs": [
        {
          "output_type": "stream",
          "text": [
            "          1         2    3    4         5  ...  682  683  684  685  686\n",
            "0  1.019280  1.240127  0.5  0.5  1.018462  ...    0    0    0    0    1\n",
            "1  1.019262  1.248247  0.5  0.5  1.018890  ...    0    0    0    0    1\n",
            "2  1.023792  1.286444  0.5  0.5  1.024392  ...    0    0    0    0    1\n",
            "3  1.023431  1.364974  0.5  0.5  1.023545  ...    0    0    0    0    1\n",
            "4  1.018795  1.277456  0.5  0.5  1.021053  ...    0    0    0    0    1\n",
            "\n",
            "[5 rows x 686 columns] \n",
            "\n",
            "1      float64\n",
            "2      float64\n",
            "3      float64\n",
            "4      float64\n",
            "5      float64\n",
            "        ...   \n",
            "682      int64\n",
            "683      int64\n",
            "684      int64\n",
            "685      int64\n",
            "686      int64\n",
            "Length: 686, dtype: object \n",
            "\n",
            "column 681 static info\n",
            "max: \t\t 1\n",
            "min: \t\t 0\n",
            "avg: \t\t 0.19\n",
            "count of na:  \t\t 0\n",
            "unique values:  \t\t 2\n"
          ],
          "name": "stdout"
        },
        {
          "output_type": "display_data",
          "data": {
            "image/png": "[encoded data removed]",
            "text/plain": [
              "<Figure size 720x432 with 1 Axes>"
            ]
          },
          "metadata": {
            "tags": [],
            "needs_background": "light"
          }
        },
        {
          "output_type": "stream",
          "text": [
            "\n",
            "\n",
            "column 682 static info\n",
            "max: \t\t 1\n",
            "min: \t\t 0\n",
            "avg: \t\t 0.13\n",
            "count of na:  \t\t 0\n",
            "unique values:  \t\t 2\n"
          ],
          "name": "stdout"
        },
        {
          "output_type": "display_data",
          "data": {
            "image/png": "[encoded data removed]",
            "text/plain": [
              "<Figure size 720x432 with 1 Axes>"
            ]
          },
          "metadata": {
            "tags": [],
            "needs_background": "light"
          }
        },
        {
          "output_type": "stream",
          "text": [
            "\n",
            "\n",
            "column 683 static info\n",
            "max: \t\t 1\n",
            "min: \t\t 0\n",
            "avg: \t\t 0.19\n",
            "count of na:  \t\t 0\n",
            "unique values:  \t\t 2\n"
          ],
          "name": "stdout"
        },
        {
          "output_type": "display_data",
          "data": {
            "image/png": "[encoded data removed]",
            "text/plain": [
              "<Figure size 720x432 with 1 Axes>"
            ]
          },
          "metadata": {
            "tags": [],
            "needs_background": "light"
          }
        },
        {
          "output_type": "stream",
          "text": [
            "\n",
            "\n",
            "column 684 static info\n",
            "max: \t\t 1\n",
            "min: \t\t 0\n",
            "avg: \t\t 0.13\n",
            "count of na:  \t\t 0\n",
            "unique values:  \t\t 2\n"
          ],
          "name": "stdout"
        },
        {
          "output_type": "display_data",
          "data": {
            "image/png": "[encoded data removed]",
            "text/plain": [
              "<Figure size 720x432 with 1 Axes>"
            ]
          },
          "metadata": {
            "tags": [],
            "needs_background": "light"
          }
        },
        {
          "output_type": "stream",
          "text": [
            "\n",
            "\n",
            "column 685 static info\n",
            "max: \t\t 1\n",
            "min: \t\t 0\n",
            "avg: \t\t 0.22\n",
            "count of na:  \t\t 0\n",
            "unique values:  \t\t 2\n"
          ],
          "name": "stdout"
        },
        {
          "output_type": "display_data",
          "data": {
            "image/png": "[encoded data removed]",
            "text/plain": [
              "<Figure size 720x432 with 1 Axes>"
            ]
          },
          "metadata": {
            "tags": [],
            "needs_background": "light"
          }
        },
        {
          "output_type": "stream",
          "text": [
            "\n",
            "\n",
            "column 686 static info\n",
            "max: \t\t 1\n",
            "min: \t\t 0\n",
            "avg: \t\t 0.14\n",
            "count of na:  \t\t 0\n",
            "unique values:  \t\t 2\n"
          ],
          "name": "stdout"
        },
        {
          "output_type": "display_data",
          "data": {
            "image/png": "[encoded data removed]",
            "text/plain": [
              "<Figure size 720x432 with 1 Axes>"
            ]
          },
          "metadata": {
            "tags": [],
            "needs_background": "light"
          }
        },
        {
          "output_type": "stream",
          "text": [
            "\n",
            "\n"
          ],
          "name": "stdout"
        }
      ]
    },
    {
      "cell_type": "code",
      "metadata": {
        "id": "0sguTYBcu5Bx"
      },
      "source": [
        "##column 681~686 seems to be one-hot encoded target value"
      ],
      "execution_count": 10,
      "outputs": []
    },
    {
      "cell_type": "markdown",
      "metadata": {
        "id": "Of7ASiYd7_OW"
      },
      "source": [
        "#### preparing data"
      ]
    },
    {
      "cell_type": "code",
      "metadata": {
        "id": "9SbKnrc66htN"
      },
      "source": [
        "train_raw=train_raw.sample(frac=1).reset_index(drop=True)\r\n",
        "\r\n",
        "row=train_raw.shape[0]\r\n",
        "train=train_raw.iloc[:int(row*0.9)]\r\n",
        "valid=train_raw.iloc[int(row*0.9):]"
      ],
      "execution_count": 11,
      "outputs": []
    },
    {
      "cell_type": "code",
      "metadata": {
        "id": "JzZcUgGrkgko"
      },
      "source": [
        "y_train=train[[str(x) for x in range(681, 687)]]\r\n",
        "x_train=train[[str(x) for x in range(1, 681)]]\r\n",
        "\r\n",
        "y_valid=valid[[str(x) for x in range(681, 687)]]\r\n",
        "x_valid=valid[[str(x) for x in range(1, 681)]]\r\n",
        "\r\n",
        "y_test=test_raw[[str(x) for x in range(681, 687)]]\r\n",
        "x_test=test_raw[[str(x) for x in range(1, 681)]]"
      ],
      "execution_count": 12,
      "outputs": []
    },
    {
      "cell_type": "code",
      "metadata": {
        "colab": {
          "base_uri": "https://localhost:8080/"
        },
        "id": "VlDQfmrk3CYf",
        "outputId": "01f375c3-570e-4859-ffdd-f44b73bc15bf"
      },
      "source": [
        "y_train.iloc[0]"
      ],
      "execution_count": 13,
      "outputs": [
        {
          "output_type": "execute_result",
          "data": {
            "text/plain": [
              "681    0\n",
              "682    0\n",
              "683    0\n",
              "684    0\n",
              "685    1\n",
              "686    0\n",
              "Name: 0, dtype: int64"
            ]
          },
          "metadata": {
            "tags": []
          },
          "execution_count": 13
        }
      ]
    },
    {
      "cell_type": "code",
      "metadata": {
        "id": "xsM2sfDq9xY7",
        "colab": {
          "base_uri": "https://localhost:8080/"
        },
        "outputId": "6e2305b3-6e28-460a-e4be-49fbd150c946"
      },
      "source": [
        "#changing one-hot encoded target value to single integer value(0~6)\r\n",
        "y_train['target']=np.argmax(y_train.copy().values, axis=1)\r\n",
        "y_valid['target']=np.argmax(y_valid.copy().values, axis=1)\r\n",
        "y_test['target']=np.argmax(y_test.copy().values, axis=1)\r\n",
        "\r\n",
        "y_train=y_train['target'].copy()\r\n",
        "y_valid=y_valid['target'].copy()\r\n",
        "y_test=y_test['target'].copy()"
      ],
      "execution_count": 30,
      "outputs": [
        {
          "output_type": "stream",
          "text": [
            "/usr/local/lib/python3.7/dist-packages/ipykernel_launcher.py:2: SettingWithCopyWarning: \n",
            "A value is trying to be set on a copy of a slice from a DataFrame.\n",
            "Try using .loc[row_indexer,col_indexer] = value instead\n",
            "\n",
            "See the caveats in the documentation: https://pandas.pydata.org/pandas-docs/stable/user_guide/indexing.html#returning-a-view-versus-a-copy\n",
            "  \n",
            "/usr/local/lib/python3.7/dist-packages/ipykernel_launcher.py:3: SettingWithCopyWarning: \n",
            "A value is trying to be set on a copy of a slice from a DataFrame.\n",
            "Try using .loc[row_indexer,col_indexer] = value instead\n",
            "\n",
            "See the caveats in the documentation: https://pandas.pydata.org/pandas-docs/stable/user_guide/indexing.html#returning-a-view-versus-a-copy\n",
            "  This is separate from the ipykernel package so we can avoid doing imports until\n",
            "/usr/local/lib/python3.7/dist-packages/ipykernel_launcher.py:4: SettingWithCopyWarning: \n",
            "A value is trying to be set on a copy of a slice from a DataFrame.\n",
            "Try using .loc[row_indexer,col_indexer] = value instead\n",
            "\n",
            "See the caveats in the documentation: https://pandas.pydata.org/pandas-docs/stable/user_guide/indexing.html#returning-a-view-versus-a-copy\n",
            "  after removing the cwd from sys.path.\n"
          ],
          "name": "stderr"
        }
      ]
    },
    {
      "cell_type": "code",
      "metadata": {
        "colab": {
          "base_uri": "https://localhost:8080/"
        },
        "id": "2rs_oYSI20B-",
        "outputId": "6a095a8d-57b8-4092-94e8-fe7785cae299"
      },
      "source": [
        "np.unique(y_test.values, return_counts=True)"
      ],
      "execution_count": 31,
      "outputs": [
        {
          "output_type": "execute_result",
          "data": {
            "text/plain": [
              "(array([0, 1, 2, 3, 4, 5]), array([3800, 2600, 3800, 2600, 4400, 2800]))"
            ]
          },
          "metadata": {
            "tags": []
          },
          "execution_count": 31
        }
      ]
    },
    {
      "cell_type": "code",
      "metadata": {
        "id": "ycQgeIHV_2Z_"
      },
      "source": [
        "#from sklearn.preprocessing import RobustScaler\r\n",
        "#trans=RobustScaler().fit(x_train.values)\r\n",
        "#x_train=pd.DataFrame(data=trans.transform(x_train.values), columns=x_train.columns)\r\n",
        "#x_test=pd.DataFrame(data=trans.transform(x_test.values), columns=x_test.columns)"
      ],
      "execution_count": 16,
      "outputs": []
    },
    {
      "cell_type": "code",
      "metadata": {
        "colab": {
          "base_uri": "https://localhost:8080/",
          "height": 427
        },
        "id": "qdQ4qBIs3g63",
        "outputId": "fec91309-868d-4038-de17-84b8c3b551a8"
      },
      "source": [
        "x_train"
      ],
      "execution_count": 32,
      "outputs": [
        {
          "output_type": "execute_result",
          "data": {
            "text/html": [
              "<div>\n",
              "<style scoped>\n",
              "    .dataframe tbody tr th:only-of-type {\n",
              "        vertical-align: middle;\n",
              "    }\n",
              "\n",
              "    .dataframe tbody tr th {\n",
              "        vertical-align: top;\n",
              "    }\n",
              "\n",
              "    .dataframe thead th {\n",
              "        text-align: right;\n",
              "    }\n",
              "</style>\n",
              "<table border=\"1\" class=\"dataframe\">\n",
              "  <thead>\n",
              "    <tr style=\"text-align: right;\">\n",
              "      <th></th>\n",
              "      <th>1</th>\n",
              "      <th>2</th>\n",
              "      <th>3</th>\n",
              "      <th>4</th>\n",
              "      <th>5</th>\n",
              "      <th>6</th>\n",
              "      <th>7</th>\n",
              "      <th>8</th>\n",
              "      <th>9</th>\n",
              "      <th>10</th>\n",
              "      <th>11</th>\n",
              "      <th>12</th>\n",
              "      <th>13</th>\n",
              "      <th>14</th>\n",
              "      <th>15</th>\n",
              "      <th>16</th>\n",
              "      <th>17</th>\n",
              "      <th>18</th>\n",
              "      <th>19</th>\n",
              "      <th>20</th>\n",
              "      <th>21</th>\n",
              "      <th>22</th>\n",
              "      <th>23</th>\n",
              "      <th>24</th>\n",
              "      <th>25</th>\n",
              "      <th>26</th>\n",
              "      <th>27</th>\n",
              "      <th>28</th>\n",
              "      <th>29</th>\n",
              "      <th>30</th>\n",
              "      <th>31</th>\n",
              "      <th>32</th>\n",
              "      <th>33</th>\n",
              "      <th>34</th>\n",
              "      <th>35</th>\n",
              "      <th>36</th>\n",
              "      <th>37</th>\n",
              "      <th>38</th>\n",
              "      <th>39</th>\n",
              "      <th>40</th>\n",
              "      <th>...</th>\n",
              "      <th>641</th>\n",
              "      <th>642</th>\n",
              "      <th>643</th>\n",
              "      <th>644</th>\n",
              "      <th>645</th>\n",
              "      <th>646</th>\n",
              "      <th>647</th>\n",
              "      <th>648</th>\n",
              "      <th>649</th>\n",
              "      <th>650</th>\n",
              "      <th>651</th>\n",
              "      <th>652</th>\n",
              "      <th>653</th>\n",
              "      <th>654</th>\n",
              "      <th>655</th>\n",
              "      <th>656</th>\n",
              "      <th>657</th>\n",
              "      <th>658</th>\n",
              "      <th>659</th>\n",
              "      <th>660</th>\n",
              "      <th>661</th>\n",
              "      <th>662</th>\n",
              "      <th>663</th>\n",
              "      <th>664</th>\n",
              "      <th>665</th>\n",
              "      <th>666</th>\n",
              "      <th>667</th>\n",
              "      <th>668</th>\n",
              "      <th>669</th>\n",
              "      <th>670</th>\n",
              "      <th>671</th>\n",
              "      <th>672</th>\n",
              "      <th>673</th>\n",
              "      <th>674</th>\n",
              "      <th>675</th>\n",
              "      <th>676</th>\n",
              "      <th>677</th>\n",
              "      <th>678</th>\n",
              "      <th>679</th>\n",
              "      <th>680</th>\n",
              "    </tr>\n",
              "  </thead>\n",
              "  <tbody>\n",
              "    <tr>\n",
              "      <th>0</th>\n",
              "      <td>0.810134</td>\n",
              "      <td>0.793202</td>\n",
              "      <td>0.482405</td>\n",
              "      <td>0.382047</td>\n",
              "      <td>0.810444</td>\n",
              "      <td>0.793849</td>\n",
              "      <td>0.479069</td>\n",
              "      <td>0.359679</td>\n",
              "      <td>0.810557</td>\n",
              "      <td>0.796416</td>\n",
              "      <td>0.477426</td>\n",
              "      <td>0.348749</td>\n",
              "      <td>0.810927</td>\n",
              "      <td>0.797314</td>\n",
              "      <td>0.474451</td>\n",
              "      <td>0.329339</td>\n",
              "      <td>0.809663</td>\n",
              "      <td>0.800481</td>\n",
              "      <td>0.474599</td>\n",
              "      <td>0.330770</td>\n",
              "      <td>0.807387</td>\n",
              "      <td>0.804455</td>\n",
              "      <td>0.476452</td>\n",
              "      <td>0.344428</td>\n",
              "      <td>0.805608</td>\n",
              "      <td>0.810540</td>\n",
              "      <td>0.482146</td>\n",
              "      <td>0.381622</td>\n",
              "      <td>0.804771</td>\n",
              "      <td>0.812580</td>\n",
              "      <td>0.484966</td>\n",
              "      <td>0.401176</td>\n",
              "      <td>0.803459</td>\n",
              "      <td>0.816411</td>\n",
              "      <td>0.491081</td>\n",
              "      <td>0.441170</td>\n",
              "      <td>0.804587</td>\n",
              "      <td>0.814646</td>\n",
              "      <td>0.491511</td>\n",
              "      <td>0.444236</td>\n",
              "      <td>...</td>\n",
              "      <td>0.723966</td>\n",
              "      <td>0.738184</td>\n",
              "      <td>0.523398</td>\n",
              "      <td>0.656205</td>\n",
              "      <td>0.723439</td>\n",
              "      <td>0.738941</td>\n",
              "      <td>0.527085</td>\n",
              "      <td>0.682342</td>\n",
              "      <td>0.723652</td>\n",
              "      <td>0.741956</td>\n",
              "      <td>0.533100</td>\n",
              "      <td>0.721484</td>\n",
              "      <td>0.726455</td>\n",
              "      <td>0.740286</td>\n",
              "      <td>0.534281</td>\n",
              "      <td>0.728607</td>\n",
              "      <td>0.728887</td>\n",
              "      <td>0.738686</td>\n",
              "      <td>0.534325</td>\n",
              "      <td>0.729179</td>\n",
              "      <td>0.731024</td>\n",
              "      <td>0.739490</td>\n",
              "      <td>0.535816</td>\n",
              "      <td>0.738908</td>\n",
              "      <td>0.732839</td>\n",
              "      <td>0.741127</td>\n",
              "      <td>0.537347</td>\n",
              "      <td>0.749678</td>\n",
              "      <td>0.734289</td>\n",
              "      <td>0.743839</td>\n",
              "      <td>0.540318</td>\n",
              "      <td>0.769302</td>\n",
              "      <td>0.737461</td>\n",
              "      <td>0.743690</td>\n",
              "      <td>0.540519</td>\n",
              "      <td>0.770159</td>\n",
              "      <td>0.738999</td>\n",
              "      <td>0.745586</td>\n",
              "      <td>0.541997</td>\n",
              "      <td>0.780604</td>\n",
              "    </tr>\n",
              "    <tr>\n",
              "      <th>1</th>\n",
              "      <td>0.562420</td>\n",
              "      <td>0.848917</td>\n",
              "      <td>0.564682</td>\n",
              "      <td>0.565043</td>\n",
              "      <td>0.562420</td>\n",
              "      <td>0.851811</td>\n",
              "      <td>0.570701</td>\n",
              "      <td>0.570866</td>\n",
              "      <td>0.562420</td>\n",
              "      <td>0.853812</td>\n",
              "      <td>0.576083</td>\n",
              "      <td>0.576217</td>\n",
              "      <td>0.562420</td>\n",
              "      <td>0.856329</td>\n",
              "      <td>0.576592</td>\n",
              "      <td>0.576710</td>\n",
              "      <td>0.562420</td>\n",
              "      <td>0.858642</td>\n",
              "      <td>0.585460</td>\n",
              "      <td>0.585536</td>\n",
              "      <td>0.562420</td>\n",
              "      <td>0.859774</td>\n",
              "      <td>0.579271</td>\n",
              "      <td>0.578933</td>\n",
              "      <td>0.562420</td>\n",
              "      <td>0.860738</td>\n",
              "      <td>0.578614</td>\n",
              "      <td>0.578749</td>\n",
              "      <td>0.562420</td>\n",
              "      <td>0.861779</td>\n",
              "      <td>0.572702</td>\n",
              "      <td>0.572447</td>\n",
              "      <td>0.562420</td>\n",
              "      <td>0.862291</td>\n",
              "      <td>0.568937</td>\n",
              "      <td>0.568748</td>\n",
              "      <td>0.562420</td>\n",
              "      <td>0.862236</td>\n",
              "      <td>0.547206</td>\n",
              "      <td>0.546406</td>\n",
              "      <td>...</td>\n",
              "      <td>0.562420</td>\n",
              "      <td>0.626642</td>\n",
              "      <td>0.456881</td>\n",
              "      <td>0.456763</td>\n",
              "      <td>0.562420</td>\n",
              "      <td>0.624691</td>\n",
              "      <td>0.459088</td>\n",
              "      <td>0.459321</td>\n",
              "      <td>0.562420</td>\n",
              "      <td>0.622777</td>\n",
              "      <td>0.463055</td>\n",
              "      <td>0.463149</td>\n",
              "      <td>0.562420</td>\n",
              "      <td>0.621569</td>\n",
              "      <td>0.470325</td>\n",
              "      <td>0.470649</td>\n",
              "      <td>0.562420</td>\n",
              "      <td>0.620603</td>\n",
              "      <td>0.477555</td>\n",
              "      <td>0.477725</td>\n",
              "      <td>0.562420</td>\n",
              "      <td>0.618886</td>\n",
              "      <td>0.482042</td>\n",
              "      <td>0.482083</td>\n",
              "      <td>0.562420</td>\n",
              "      <td>0.617944</td>\n",
              "      <td>0.480240</td>\n",
              "      <td>0.480227</td>\n",
              "      <td>0.562420</td>\n",
              "      <td>0.618125</td>\n",
              "      <td>0.488072</td>\n",
              "      <td>0.488554</td>\n",
              "      <td>0.562420</td>\n",
              "      <td>0.618892</td>\n",
              "      <td>0.498482</td>\n",
              "      <td>0.498720</td>\n",
              "      <td>0.562420</td>\n",
              "      <td>0.619178</td>\n",
              "      <td>0.507505</td>\n",
              "      <td>0.507812</td>\n",
              "    </tr>\n",
              "    <tr>\n",
              "      <th>2</th>\n",
              "      <td>0.696821</td>\n",
              "      <td>0.698705</td>\n",
              "      <td>0.429113</td>\n",
              "      <td>0.027354</td>\n",
              "      <td>0.694227</td>\n",
              "      <td>0.698463</td>\n",
              "      <td>0.430729</td>\n",
              "      <td>0.039315</td>\n",
              "      <td>0.692153</td>\n",
              "      <td>0.699647</td>\n",
              "      <td>0.434479</td>\n",
              "      <td>0.063765</td>\n",
              "      <td>0.689979</td>\n",
              "      <td>0.699754</td>\n",
              "      <td>0.437696</td>\n",
              "      <td>0.085980</td>\n",
              "      <td>0.687532</td>\n",
              "      <td>0.701434</td>\n",
              "      <td>0.442963</td>\n",
              "      <td>0.120881</td>\n",
              "      <td>0.683392</td>\n",
              "      <td>0.703437</td>\n",
              "      <td>0.449745</td>\n",
              "      <td>0.167431</td>\n",
              "      <td>0.680230</td>\n",
              "      <td>0.706825</td>\n",
              "      <td>0.459356</td>\n",
              "      <td>0.230758</td>\n",
              "      <td>0.679906</td>\n",
              "      <td>0.705083</td>\n",
              "      <td>0.464279</td>\n",
              "      <td>0.263178</td>\n",
              "      <td>0.678794</td>\n",
              "      <td>0.704443</td>\n",
              "      <td>0.470141</td>\n",
              "      <td>0.302385</td>\n",
              "      <td>0.677751</td>\n",
              "      <td>0.703307</td>\n",
              "      <td>0.475743</td>\n",
              "      <td>0.339692</td>\n",
              "      <td>...</td>\n",
              "      <td>0.745422</td>\n",
              "      <td>0.740559</td>\n",
              "      <td>0.479880</td>\n",
              "      <td>0.366183</td>\n",
              "      <td>0.744298</td>\n",
              "      <td>0.740160</td>\n",
              "      <td>0.479745</td>\n",
              "      <td>0.364700</td>\n",
              "      <td>0.742427</td>\n",
              "      <td>0.739888</td>\n",
              "      <td>0.479821</td>\n",
              "      <td>0.365913</td>\n",
              "      <td>0.740804</td>\n",
              "      <td>0.741666</td>\n",
              "      <td>0.482039</td>\n",
              "      <td>0.380628</td>\n",
              "      <td>0.740610</td>\n",
              "      <td>0.740230</td>\n",
              "      <td>0.481692</td>\n",
              "      <td>0.377814</td>\n",
              "      <td>0.740283</td>\n",
              "      <td>0.738557</td>\n",
              "      <td>0.481086</td>\n",
              "      <td>0.373372</td>\n",
              "      <td>0.741117</td>\n",
              "      <td>0.735050</td>\n",
              "      <td>0.477961</td>\n",
              "      <td>0.352207</td>\n",
              "      <td>0.740864</td>\n",
              "      <td>0.733563</td>\n",
              "      <td>0.475556</td>\n",
              "      <td>0.336955</td>\n",
              "      <td>0.738742</td>\n",
              "      <td>0.735985</td>\n",
              "      <td>0.477205</td>\n",
              "      <td>0.348548</td>\n",
              "      <td>0.737935</td>\n",
              "      <td>0.735768</td>\n",
              "      <td>0.477526</td>\n",
              "      <td>0.349946</td>\n",
              "    </tr>\n",
              "    <tr>\n",
              "      <th>3</th>\n",
              "      <td>0.791528</td>\n",
              "      <td>0.849988</td>\n",
              "      <td>0.500000</td>\n",
              "      <td>-0.232082</td>\n",
              "      <td>0.792168</td>\n",
              "      <td>0.853103</td>\n",
              "      <td>0.500000</td>\n",
              "      <td>-0.131238</td>\n",
              "      <td>0.791902</td>\n",
              "      <td>0.854860</td>\n",
              "      <td>0.500000</td>\n",
              "      <td>-0.035411</td>\n",
              "      <td>0.789492</td>\n",
              "      <td>0.862958</td>\n",
              "      <td>0.500000</td>\n",
              "      <td>0.124322</td>\n",
              "      <td>0.790004</td>\n",
              "      <td>0.865985</td>\n",
              "      <td>0.500000</td>\n",
              "      <td>0.245144</td>\n",
              "      <td>0.790641</td>\n",
              "      <td>0.868293</td>\n",
              "      <td>0.500000</td>\n",
              "      <td>0.366548</td>\n",
              "      <td>0.791154</td>\n",
              "      <td>0.869363</td>\n",
              "      <td>0.500000</td>\n",
              "      <td>0.482331</td>\n",
              "      <td>0.790476</td>\n",
              "      <td>0.873204</td>\n",
              "      <td>0.500000</td>\n",
              "      <td>0.619419</td>\n",
              "      <td>0.789212</td>\n",
              "      <td>0.878393</td>\n",
              "      <td>0.500000</td>\n",
              "      <td>0.771554</td>\n",
              "      <td>0.788785</td>\n",
              "      <td>0.882785</td>\n",
              "      <td>0.500000</td>\n",
              "      <td>0.928234</td>\n",
              "      <td>...</td>\n",
              "      <td>0.793031</td>\n",
              "      <td>0.797829</td>\n",
              "      <td>0.500000</td>\n",
              "      <td>-1.043412</td>\n",
              "      <td>0.793615</td>\n",
              "      <td>0.798736</td>\n",
              "      <td>0.500000</td>\n",
              "      <td>-1.033562</td>\n",
              "      <td>0.792664</td>\n",
              "      <td>0.800772</td>\n",
              "      <td>0.500000</td>\n",
              "      <td>-1.013350</td>\n",
              "      <td>0.792870</td>\n",
              "      <td>0.803704</td>\n",
              "      <td>0.500000</td>\n",
              "      <td>-0.985397</td>\n",
              "      <td>0.792296</td>\n",
              "      <td>0.806739</td>\n",
              "      <td>0.500000</td>\n",
              "      <td>-0.951767</td>\n",
              "      <td>0.793295</td>\n",
              "      <td>0.808264</td>\n",
              "      <td>0.500000</td>\n",
              "      <td>-0.925278</td>\n",
              "      <td>0.794278</td>\n",
              "      <td>0.808067</td>\n",
              "      <td>0.500000</td>\n",
              "      <td>-0.908877</td>\n",
              "      <td>0.795131</td>\n",
              "      <td>0.808527</td>\n",
              "      <td>0.500000</td>\n",
              "      <td>-0.891173</td>\n",
              "      <td>0.794599</td>\n",
              "      <td>0.811654</td>\n",
              "      <td>0.500000</td>\n",
              "      <td>-0.853341</td>\n",
              "      <td>0.796631</td>\n",
              "      <td>0.810853</td>\n",
              "      <td>0.500000</td>\n",
              "      <td>-0.839064</td>\n",
              "    </tr>\n",
              "    <tr>\n",
              "      <th>4</th>\n",
              "      <td>1.117349</td>\n",
              "      <td>1.092108</td>\n",
              "      <td>0.499698</td>\n",
              "      <td>-1.255189</td>\n",
              "      <td>1.124335</td>\n",
              "      <td>1.085189</td>\n",
              "      <td>0.500000</td>\n",
              "      <td>-1.360143</td>\n",
              "      <td>1.123970</td>\n",
              "      <td>1.082393</td>\n",
              "      <td>0.500000</td>\n",
              "      <td>-1.443517</td>\n",
              "      <td>1.111133</td>\n",
              "      <td>1.096572</td>\n",
              "      <td>0.503686</td>\n",
              "      <td>-1.381361</td>\n",
              "      <td>1.114272</td>\n",
              "      <td>1.095565</td>\n",
              "      <td>0.500000</td>\n",
              "      <td>-1.412078</td>\n",
              "      <td>1.113462</td>\n",
              "      <td>1.094810</td>\n",
              "      <td>0.500000</td>\n",
              "      <td>-1.443887</td>\n",
              "      <td>1.091970</td>\n",
              "      <td>1.121786</td>\n",
              "      <td>0.499679</td>\n",
              "      <td>-1.232567</td>\n",
              "      <td>1.097695</td>\n",
              "      <td>1.115343</td>\n",
              "      <td>0.500000</td>\n",
              "      <td>-1.240360</td>\n",
              "      <td>1.096036</td>\n",
              "      <td>1.112909</td>\n",
              "      <td>0.500000</td>\n",
              "      <td>-1.225719</td>\n",
              "      <td>1.095010</td>\n",
              "      <td>1.114309</td>\n",
              "      <td>0.500000</td>\n",
              "      <td>-1.179372</td>\n",
              "      <td>...</td>\n",
              "      <td>1.126014</td>\n",
              "      <td>1.109942</td>\n",
              "      <td>0.500001</td>\n",
              "      <td>2.279686</td>\n",
              "      <td>1.122674</td>\n",
              "      <td>1.118345</td>\n",
              "      <td>0.500000</td>\n",
              "      <td>2.317405</td>\n",
              "      <td>1.124353</td>\n",
              "      <td>1.120923</td>\n",
              "      <td>0.500000</td>\n",
              "      <td>2.320228</td>\n",
              "      <td>1.123541</td>\n",
              "      <td>1.123848</td>\n",
              "      <td>0.500000</td>\n",
              "      <td>2.328065</td>\n",
              "      <td>1.124660</td>\n",
              "      <td>1.127365</td>\n",
              "      <td>0.500000</td>\n",
              "      <td>2.347819</td>\n",
              "      <td>1.125476</td>\n",
              "      <td>1.126730</td>\n",
              "      <td>0.500000</td>\n",
              "      <td>2.338362</td>\n",
              "      <td>1.124883</td>\n",
              "      <td>1.131736</td>\n",
              "      <td>0.500000</td>\n",
              "      <td>2.374637</td>\n",
              "      <td>1.126834</td>\n",
              "      <td>1.131431</td>\n",
              "      <td>0.500000</td>\n",
              "      <td>2.370367</td>\n",
              "      <td>1.126101</td>\n",
              "      <td>1.135781</td>\n",
              "      <td>0.500000</td>\n",
              "      <td>2.404705</td>\n",
              "      <td>1.124537</td>\n",
              "      <td>1.139727</td>\n",
              "      <td>0.500000</td>\n",
              "      <td>2.445945</td>\n",
              "    </tr>\n",
              "    <tr>\n",
              "      <th>...</th>\n",
              "      <td>...</td>\n",
              "      <td>...</td>\n",
              "      <td>...</td>\n",
              "      <td>...</td>\n",
              "      <td>...</td>\n",
              "      <td>...</td>\n",
              "      <td>...</td>\n",
              "      <td>...</td>\n",
              "      <td>...</td>\n",
              "      <td>...</td>\n",
              "      <td>...</td>\n",
              "      <td>...</td>\n",
              "      <td>...</td>\n",
              "      <td>...</td>\n",
              "      <td>...</td>\n",
              "      <td>...</td>\n",
              "      <td>...</td>\n",
              "      <td>...</td>\n",
              "      <td>...</td>\n",
              "      <td>...</td>\n",
              "      <td>...</td>\n",
              "      <td>...</td>\n",
              "      <td>...</td>\n",
              "      <td>...</td>\n",
              "      <td>...</td>\n",
              "      <td>...</td>\n",
              "      <td>...</td>\n",
              "      <td>...</td>\n",
              "      <td>...</td>\n",
              "      <td>...</td>\n",
              "      <td>...</td>\n",
              "      <td>...</td>\n",
              "      <td>...</td>\n",
              "      <td>...</td>\n",
              "      <td>...</td>\n",
              "      <td>...</td>\n",
              "      <td>...</td>\n",
              "      <td>...</td>\n",
              "      <td>...</td>\n",
              "      <td>...</td>\n",
              "      <td>...</td>\n",
              "      <td>...</td>\n",
              "      <td>...</td>\n",
              "      <td>...</td>\n",
              "      <td>...</td>\n",
              "      <td>...</td>\n",
              "      <td>...</td>\n",
              "      <td>...</td>\n",
              "      <td>...</td>\n",
              "      <td>...</td>\n",
              "      <td>...</td>\n",
              "      <td>...</td>\n",
              "      <td>...</td>\n",
              "      <td>...</td>\n",
              "      <td>...</td>\n",
              "      <td>...</td>\n",
              "      <td>...</td>\n",
              "      <td>...</td>\n",
              "      <td>...</td>\n",
              "      <td>...</td>\n",
              "      <td>...</td>\n",
              "      <td>...</td>\n",
              "      <td>...</td>\n",
              "      <td>...</td>\n",
              "      <td>...</td>\n",
              "      <td>...</td>\n",
              "      <td>...</td>\n",
              "      <td>...</td>\n",
              "      <td>...</td>\n",
              "      <td>...</td>\n",
              "      <td>...</td>\n",
              "      <td>...</td>\n",
              "      <td>...</td>\n",
              "      <td>...</td>\n",
              "      <td>...</td>\n",
              "      <td>...</td>\n",
              "      <td>...</td>\n",
              "      <td>...</td>\n",
              "      <td>...</td>\n",
              "      <td>...</td>\n",
              "      <td>...</td>\n",
              "    </tr>\n",
              "    <tr>\n",
              "      <th>71995</th>\n",
              "      <td>0.578187</td>\n",
              "      <td>1.580789</td>\n",
              "      <td>0.500000</td>\n",
              "      <td>0.500000</td>\n",
              "      <td>0.577930</td>\n",
              "      <td>1.580869</td>\n",
              "      <td>0.500000</td>\n",
              "      <td>0.500000</td>\n",
              "      <td>0.577535</td>\n",
              "      <td>1.578126</td>\n",
              "      <td>0.500000</td>\n",
              "      <td>0.500000</td>\n",
              "      <td>0.576716</td>\n",
              "      <td>1.578064</td>\n",
              "      <td>0.500000</td>\n",
              "      <td>0.500000</td>\n",
              "      <td>0.576347</td>\n",
              "      <td>1.576287</td>\n",
              "      <td>0.500000</td>\n",
              "      <td>0.500000</td>\n",
              "      <td>0.576756</td>\n",
              "      <td>1.573432</td>\n",
              "      <td>0.500000</td>\n",
              "      <td>0.500000</td>\n",
              "      <td>0.577630</td>\n",
              "      <td>1.567293</td>\n",
              "      <td>0.500000</td>\n",
              "      <td>0.500000</td>\n",
              "      <td>0.578796</td>\n",
              "      <td>1.560671</td>\n",
              "      <td>0.500000</td>\n",
              "      <td>0.500000</td>\n",
              "      <td>0.578296</td>\n",
              "      <td>1.555259</td>\n",
              "      <td>0.500000</td>\n",
              "      <td>0.500000</td>\n",
              "      <td>0.577188</td>\n",
              "      <td>1.556223</td>\n",
              "      <td>0.500000</td>\n",
              "      <td>0.500000</td>\n",
              "      <td>...</td>\n",
              "      <td>0.577927</td>\n",
              "      <td>1.301677</td>\n",
              "      <td>0.500000</td>\n",
              "      <td>0.500000</td>\n",
              "      <td>0.578325</td>\n",
              "      <td>1.302767</td>\n",
              "      <td>0.500000</td>\n",
              "      <td>0.500000</td>\n",
              "      <td>0.579162</td>\n",
              "      <td>1.303326</td>\n",
              "      <td>0.500000</td>\n",
              "      <td>0.500000</td>\n",
              "      <td>0.580524</td>\n",
              "      <td>1.302544</td>\n",
              "      <td>0.500000</td>\n",
              "      <td>0.500000</td>\n",
              "      <td>0.581522</td>\n",
              "      <td>1.300342</td>\n",
              "      <td>0.500000</td>\n",
              "      <td>0.500000</td>\n",
              "      <td>0.581082</td>\n",
              "      <td>1.301111</td>\n",
              "      <td>0.500000</td>\n",
              "      <td>0.500000</td>\n",
              "      <td>0.580975</td>\n",
              "      <td>1.302559</td>\n",
              "      <td>0.500000</td>\n",
              "      <td>0.500000</td>\n",
              "      <td>0.581363</td>\n",
              "      <td>1.302329</td>\n",
              "      <td>0.500000</td>\n",
              "      <td>0.500000</td>\n",
              "      <td>0.581595</td>\n",
              "      <td>1.299567</td>\n",
              "      <td>0.500000</td>\n",
              "      <td>0.500000</td>\n",
              "      <td>0.581133</td>\n",
              "      <td>1.298636</td>\n",
              "      <td>0.500000</td>\n",
              "      <td>0.500000</td>\n",
              "    </tr>\n",
              "    <tr>\n",
              "      <th>71996</th>\n",
              "      <td>0.705880</td>\n",
              "      <td>0.691566</td>\n",
              "      <td>0.513385</td>\n",
              "      <td>0.588601</td>\n",
              "      <td>0.706494</td>\n",
              "      <td>0.692206</td>\n",
              "      <td>0.510626</td>\n",
              "      <td>0.570104</td>\n",
              "      <td>0.707812</td>\n",
              "      <td>0.691780</td>\n",
              "      <td>0.506810</td>\n",
              "      <td>0.544223</td>\n",
              "      <td>0.707812</td>\n",
              "      <td>0.692075</td>\n",
              "      <td>0.503424</td>\n",
              "      <td>0.522441</td>\n",
              "      <td>0.707627</td>\n",
              "      <td>0.694374</td>\n",
              "      <td>0.502281</td>\n",
              "      <td>0.514601</td>\n",
              "      <td>0.707640</td>\n",
              "      <td>0.694952</td>\n",
              "      <td>0.499791</td>\n",
              "      <td>0.498396</td>\n",
              "      <td>0.706111</td>\n",
              "      <td>0.698680</td>\n",
              "      <td>0.500689</td>\n",
              "      <td>0.504728</td>\n",
              "      <td>0.706559</td>\n",
              "      <td>0.699616</td>\n",
              "      <td>0.500046</td>\n",
              "      <td>0.499757</td>\n",
              "      <td>0.707419</td>\n",
              "      <td>0.698575</td>\n",
              "      <td>0.497251</td>\n",
              "      <td>0.481310</td>\n",
              "      <td>0.706823</td>\n",
              "      <td>0.700138</td>\n",
              "      <td>0.497130</td>\n",
              "      <td>0.480729</td>\n",
              "      <td>...</td>\n",
              "      <td>0.685334</td>\n",
              "      <td>0.692095</td>\n",
              "      <td>0.468820</td>\n",
              "      <td>0.293103</td>\n",
              "      <td>0.683267</td>\n",
              "      <td>0.694163</td>\n",
              "      <td>0.473474</td>\n",
              "      <td>0.324179</td>\n",
              "      <td>0.682715</td>\n",
              "      <td>0.694227</td>\n",
              "      <td>0.476585</td>\n",
              "      <td>0.344523</td>\n",
              "      <td>0.681172</td>\n",
              "      <td>0.694062</td>\n",
              "      <td>0.479975</td>\n",
              "      <td>0.367552</td>\n",
              "      <td>0.680430</td>\n",
              "      <td>0.692576</td>\n",
              "      <td>0.482729</td>\n",
              "      <td>0.385209</td>\n",
              "      <td>0.679691</td>\n",
              "      <td>0.690510</td>\n",
              "      <td>0.484355</td>\n",
              "      <td>0.396436</td>\n",
              "      <td>0.678581</td>\n",
              "      <td>0.690725</td>\n",
              "      <td>0.488078</td>\n",
              "      <td>0.421003</td>\n",
              "      <td>0.679191</td>\n",
              "      <td>0.685321</td>\n",
              "      <td>0.486915</td>\n",
              "      <td>0.412763</td>\n",
              "      <td>0.677201</td>\n",
              "      <td>0.684574</td>\n",
              "      <td>0.489291</td>\n",
              "      <td>0.429032</td>\n",
              "      <td>0.678255</td>\n",
              "      <td>0.680533</td>\n",
              "      <td>0.488007</td>\n",
              "      <td>0.419293</td>\n",
              "    </tr>\n",
              "    <tr>\n",
              "      <th>71997</th>\n",
              "      <td>1.163746</td>\n",
              "      <td>0.994085</td>\n",
              "      <td>0.481799</td>\n",
              "      <td>0.481419</td>\n",
              "      <td>1.163575</td>\n",
              "      <td>0.994457</td>\n",
              "      <td>0.485989</td>\n",
              "      <td>0.485874</td>\n",
              "      <td>1.162337</td>\n",
              "      <td>0.995078</td>\n",
              "      <td>0.492694</td>\n",
              "      <td>0.493833</td>\n",
              "      <td>1.160070</td>\n",
              "      <td>0.998577</td>\n",
              "      <td>0.528138</td>\n",
              "      <td>0.528967</td>\n",
              "      <td>1.162083</td>\n",
              "      <td>0.996852</td>\n",
              "      <td>0.526269</td>\n",
              "      <td>0.525700</td>\n",
              "      <td>1.163868</td>\n",
              "      <td>0.994184</td>\n",
              "      <td>0.513449</td>\n",
              "      <td>0.512858</td>\n",
              "      <td>1.164464</td>\n",
              "      <td>0.991800</td>\n",
              "      <td>0.498783</td>\n",
              "      <td>0.499047</td>\n",
              "      <td>1.162499</td>\n",
              "      <td>0.993737</td>\n",
              "      <td>0.519156</td>\n",
              "      <td>0.519610</td>\n",
              "      <td>1.164565</td>\n",
              "      <td>0.990849</td>\n",
              "      <td>0.504055</td>\n",
              "      <td>0.503250</td>\n",
              "      <td>1.164807</td>\n",
              "      <td>0.989072</td>\n",
              "      <td>0.492873</td>\n",
              "      <td>0.492690</td>\n",
              "      <td>...</td>\n",
              "      <td>1.232589</td>\n",
              "      <td>1.018768</td>\n",
              "      <td>0.567292</td>\n",
              "      <td>0.567276</td>\n",
              "      <td>1.235113</td>\n",
              "      <td>1.020256</td>\n",
              "      <td>0.556831</td>\n",
              "      <td>0.556624</td>\n",
              "      <td>1.234897</td>\n",
              "      <td>1.024909</td>\n",
              "      <td>0.572837</td>\n",
              "      <td>0.573518</td>\n",
              "      <td>1.238258</td>\n",
              "      <td>1.026032</td>\n",
              "      <td>0.564990</td>\n",
              "      <td>0.564280</td>\n",
              "      <td>1.237932</td>\n",
              "      <td>1.029995</td>\n",
              "      <td>0.577532</td>\n",
              "      <td>0.578686</td>\n",
              "      <td>1.241902</td>\n",
              "      <td>1.030337</td>\n",
              "      <td>0.570289</td>\n",
              "      <td>0.568704</td>\n",
              "      <td>1.244831</td>\n",
              "      <td>1.029101</td>\n",
              "      <td>0.541594</td>\n",
              "      <td>0.541530</td>\n",
              "      <td>1.242596</td>\n",
              "      <td>1.035918</td>\n",
              "      <td>0.574120</td>\n",
              "      <td>0.575689</td>\n",
              "      <td>1.245723</td>\n",
              "      <td>1.037975</td>\n",
              "      <td>0.581415</td>\n",
              "      <td>0.580174</td>\n",
              "      <td>1.248881</td>\n",
              "      <td>1.036769</td>\n",
              "      <td>0.559073</td>\n",
              "      <td>0.558621</td>\n",
              "    </tr>\n",
              "    <tr>\n",
              "      <th>71998</th>\n",
              "      <td>1.072865</td>\n",
              "      <td>1.099683</td>\n",
              "      <td>0.546357</td>\n",
              "      <td>0.811166</td>\n",
              "      <td>1.073737</td>\n",
              "      <td>1.101113</td>\n",
              "      <td>0.553726</td>\n",
              "      <td>0.859259</td>\n",
              "      <td>1.075093</td>\n",
              "      <td>1.100030</td>\n",
              "      <td>0.558010</td>\n",
              "      <td>0.888184</td>\n",
              "      <td>1.076612</td>\n",
              "      <td>1.099531</td>\n",
              "      <td>0.562658</td>\n",
              "      <td>0.918551</td>\n",
              "      <td>1.078662</td>\n",
              "      <td>1.098122</td>\n",
              "      <td>0.565417</td>\n",
              "      <td>0.936829</td>\n",
              "      <td>1.080942</td>\n",
              "      <td>1.096479</td>\n",
              "      <td>0.567236</td>\n",
              "      <td>0.948394</td>\n",
              "      <td>1.083851</td>\n",
              "      <td>1.093256</td>\n",
              "      <td>0.566129</td>\n",
              "      <td>0.940694</td>\n",
              "      <td>1.085369</td>\n",
              "      <td>1.092963</td>\n",
              "      <td>0.567572</td>\n",
              "      <td>0.950101</td>\n",
              "      <td>1.088444</td>\n",
              "      <td>1.090058</td>\n",
              "      <td>0.564636</td>\n",
              "      <td>0.930353</td>\n",
              "      <td>1.089149</td>\n",
              "      <td>1.090277</td>\n",
              "      <td>0.564480</td>\n",
              "      <td>0.929807</td>\n",
              "      <td>...</td>\n",
              "      <td>1.059822</td>\n",
              "      <td>1.072153</td>\n",
              "      <td>0.489382</td>\n",
              "      <td>0.430766</td>\n",
              "      <td>1.059597</td>\n",
              "      <td>1.070650</td>\n",
              "      <td>0.492319</td>\n",
              "      <td>0.448943</td>\n",
              "      <td>1.059799</td>\n",
              "      <td>1.068238</td>\n",
              "      <td>0.492909</td>\n",
              "      <td>0.452788</td>\n",
              "      <td>1.059808</td>\n",
              "      <td>1.065625</td>\n",
              "      <td>0.492825</td>\n",
              "      <td>0.452105</td>\n",
              "      <td>1.058785</td>\n",
              "      <td>1.063748</td>\n",
              "      <td>0.493311</td>\n",
              "      <td>0.455695</td>\n",
              "      <td>1.058072</td>\n",
              "      <td>1.061443</td>\n",
              "      <td>0.493166</td>\n",
              "      <td>0.454553</td>\n",
              "      <td>1.055899</td>\n",
              "      <td>1.062011</td>\n",
              "      <td>0.496051</td>\n",
              "      <td>0.474182</td>\n",
              "      <td>1.057275</td>\n",
              "      <td>1.058118</td>\n",
              "      <td>0.494077</td>\n",
              "      <td>0.459365</td>\n",
              "      <td>1.057121</td>\n",
              "      <td>1.053671</td>\n",
              "      <td>0.490184</td>\n",
              "      <td>0.434443</td>\n",
              "      <td>1.055629</td>\n",
              "      <td>1.053224</td>\n",
              "      <td>0.490316</td>\n",
              "      <td>0.435211</td>\n",
              "    </tr>\n",
              "    <tr>\n",
              "      <th>71999</th>\n",
              "      <td>2.238855</td>\n",
              "      <td>0.000000</td>\n",
              "      <td>0.538020</td>\n",
              "      <td>-4.500000</td>\n",
              "      <td>2.239734</td>\n",
              "      <td>0.000000</td>\n",
              "      <td>0.538020</td>\n",
              "      <td>-4.500000</td>\n",
              "      <td>2.241140</td>\n",
              "      <td>0.000000</td>\n",
              "      <td>0.538020</td>\n",
              "      <td>-4.500000</td>\n",
              "      <td>2.242325</td>\n",
              "      <td>0.000000</td>\n",
              "      <td>0.538020</td>\n",
              "      <td>-4.500000</td>\n",
              "      <td>2.243443</td>\n",
              "      <td>0.000000</td>\n",
              "      <td>0.538020</td>\n",
              "      <td>-4.500000</td>\n",
              "      <td>2.245038</td>\n",
              "      <td>0.000000</td>\n",
              "      <td>0.538020</td>\n",
              "      <td>-4.500000</td>\n",
              "      <td>2.246384</td>\n",
              "      <td>0.000000</td>\n",
              "      <td>0.538020</td>\n",
              "      <td>-4.500000</td>\n",
              "      <td>2.247151</td>\n",
              "      <td>0.000000</td>\n",
              "      <td>0.538020</td>\n",
              "      <td>-4.500000</td>\n",
              "      <td>2.248153</td>\n",
              "      <td>0.000000</td>\n",
              "      <td>0.538020</td>\n",
              "      <td>-4.500000</td>\n",
              "      <td>2.249308</td>\n",
              "      <td>0.000000</td>\n",
              "      <td>0.538020</td>\n",
              "      <td>-4.500000</td>\n",
              "      <td>...</td>\n",
              "      <td>2.365691</td>\n",
              "      <td>0.000000</td>\n",
              "      <td>0.538020</td>\n",
              "      <td>-4.500000</td>\n",
              "      <td>2.367366</td>\n",
              "      <td>0.000000</td>\n",
              "      <td>0.538020</td>\n",
              "      <td>-4.500000</td>\n",
              "      <td>2.369065</td>\n",
              "      <td>0.000000</td>\n",
              "      <td>0.538020</td>\n",
              "      <td>-4.500000</td>\n",
              "      <td>2.371320</td>\n",
              "      <td>0.000000</td>\n",
              "      <td>0.538020</td>\n",
              "      <td>-4.500000</td>\n",
              "      <td>2.371003</td>\n",
              "      <td>0.000000</td>\n",
              "      <td>0.538020</td>\n",
              "      <td>-4.500000</td>\n",
              "      <td>2.371198</td>\n",
              "      <td>0.000000</td>\n",
              "      <td>0.538020</td>\n",
              "      <td>-4.500000</td>\n",
              "      <td>2.371923</td>\n",
              "      <td>0.000000</td>\n",
              "      <td>0.538020</td>\n",
              "      <td>-4.500000</td>\n",
              "      <td>2.372069</td>\n",
              "      <td>0.000000</td>\n",
              "      <td>0.538020</td>\n",
              "      <td>-4.500000</td>\n",
              "      <td>2.371972</td>\n",
              "      <td>0.000000</td>\n",
              "      <td>0.538020</td>\n",
              "      <td>-4.500000</td>\n",
              "      <td>2.371468</td>\n",
              "      <td>0.000000</td>\n",
              "      <td>0.538020</td>\n",
              "      <td>-4.500000</td>\n",
              "    </tr>\n",
              "  </tbody>\n",
              "</table>\n",
              "<p>72000 rows × 680 columns</p>\n",
              "</div>"
            ],
            "text/plain": [
              "              1         2         3  ...       678       679       680\n",
              "0      0.810134  0.793202  0.482405  ...  0.745586  0.541997  0.780604\n",
              "1      0.562420  0.848917  0.564682  ...  0.619178  0.507505  0.507812\n",
              "2      0.696821  0.698705  0.429113  ...  0.735768  0.477526  0.349946\n",
              "3      0.791528  0.849988  0.500000  ...  0.810853  0.500000 -0.839064\n",
              "4      1.117349  1.092108  0.499698  ...  1.139727  0.500000  2.445945\n",
              "...         ...       ...       ...  ...       ...       ...       ...\n",
              "71995  0.578187  1.580789  0.500000  ...  1.298636  0.500000  0.500000\n",
              "71996  0.705880  0.691566  0.513385  ...  0.680533  0.488007  0.419293\n",
              "71997  1.163746  0.994085  0.481799  ...  1.036769  0.559073  0.558621\n",
              "71998  1.072865  1.099683  0.546357  ...  1.053224  0.490316  0.435211\n",
              "71999  2.238855  0.000000  0.538020  ...  0.000000  0.538020 -4.500000\n",
              "\n",
              "[72000 rows x 680 columns]"
            ]
          },
          "metadata": {
            "tags": []
          },
          "execution_count": 32
        }
      ]
    },
    {
      "cell_type": "code",
      "metadata": {
        "colab": {
          "base_uri": "https://localhost:8080/"
        },
        "id": "Q6lRY2TG_0aw",
        "outputId": "51840c53-faaf-4027-c8d4-112b874e4257"
      },
      "source": [
        "y_train"
      ],
      "execution_count": 33,
      "outputs": [
        {
          "output_type": "execute_result",
          "data": {
            "text/plain": [
              "0        4\n",
              "1        1\n",
              "2        4\n",
              "3        2\n",
              "4        2\n",
              "        ..\n",
              "71995    5\n",
              "71996    4\n",
              "71997    0\n",
              "71998    4\n",
              "71999    3\n",
              "Name: target, Length: 72000, dtype: int64"
            ]
          },
          "metadata": {
            "tags": []
          },
          "execution_count": 33
        }
      ]
    },
    {
      "cell_type": "markdown",
      "metadata": {
        "id": "5fbJ1Kd7DU4W"
      },
      "source": [
        "#### dataloader"
      ]
    },
    {
      "cell_type": "code",
      "metadata": {
        "id": "r5ierOxrDgnh"
      },
      "source": [
        "class windturbine_Dataset(Dataset):\r\n",
        "    def __init__(self, x: np.array, y: np.array):\r\n",
        "        self.x = x\r\n",
        "        self.y = y\r\n",
        "        \r\n",
        "\r\n",
        "    def __getitem__(self, i):\r\n",
        "        return (self.x[i] , self.y[i])\r\n",
        "\r\n",
        "    def __len__(self):\r\n",
        "        return (len(self.y))"
      ],
      "execution_count": 35,
      "outputs": []
    },
    {
      "cell_type": "code",
      "metadata": {
        "colab": {
          "base_uri": "https://localhost:8080/"
        },
        "id": "tXa87xBjxAJU",
        "outputId": "5885044e-442e-4b89-bf2e-baf0cf12fc3e"
      },
      "source": [
        "x_train.shape[0]"
      ],
      "execution_count": 36,
      "outputs": [
        {
          "output_type": "execute_result",
          "data": {
            "text/plain": [
              "72000"
            ]
          },
          "metadata": {
            "tags": []
          },
          "execution_count": 36
        }
      ]
    },
    {
      "cell_type": "code",
      "metadata": {
        "id": "CKvsEiPZDUfO"
      },
      "source": [
        "batch_size=x_train.shape[0]\r\n",
        "\r\n",
        "train_dataset=windturbine_Dataset(x_train.values, y_train.values)\r\n",
        "valid_dataset=windturbine_Dataset(x_valid.values, y_valid.values)\r\n",
        "test_dataset=windturbine_Dataset(x_test.values, y_test.values)\r\n",
        "\r\n",
        "\r\n",
        "train_dataloader = torch.utils.data.DataLoader(train_dataset, batch_size=batch_size, num_workers=5)\r\n",
        "valid_dataloader = torch.utils.data.DataLoader(valid_dataset, batch_size=batch_size, num_workers=5)\r\n",
        "test_dataloader = torch.utils.data.DataLoader(test_dataset, batch_size=batch_size, num_workers=5)"
      ],
      "execution_count": 37,
      "outputs": []
    },
    {
      "cell_type": "markdown",
      "metadata": {
        "id": "sBGkKIdO_0dI"
      },
      "source": [
        "#### model"
      ]
    },
    {
      "cell_type": "code",
      "metadata": {
        "id": "bZ98VGjS_ycf"
      },
      "source": [
        "import torch.nn.functional as F\r\n",
        "\r\n",
        "class Net(torch.nn.Module):\r\n",
        "    def __init__(self, drop_rate):\r\n",
        "        super(Net, self).__init__()\r\n",
        "        self.fc1_1=torch.nn.Linear(680, 512)\r\n",
        "        self.fc1_2=torch.nn.Linear(512, 256)\r\n",
        "        self.fc1_3=torch.nn.Linear(256, 64)\r\n",
        "\r\n",
        "        self.fc2_1=torch.nn.Linear(680, 256)\r\n",
        "        self.fc2_2=torch.nn.Linear(256, 128)\r\n",
        "        self.fc2_3=torch.nn.Linear(128, 64)\r\n",
        "\r\n",
        "        self.fc3_1=torch.nn.Linear(680, 1024)\r\n",
        "        self.fc3_2=torch.nn.Linear(1024, 1024)\r\n",
        "        self.fc3_3=torch.nn.Linear(1024, 64)\r\n",
        "\r\n",
        "        self.fc_full_1=torch.nn.Linear(192, 128)\r\n",
        "        self.fc_full_2=torch.nn.Linear(128, 64)\r\n",
        "        self.fc_full_3=torch.nn.Linear(64, 6)\r\n",
        "\r\n",
        "        self.drop_rate=drop_rate\r\n",
        "\r\n",
        "    def forward(self, x):\r\n",
        "        x1=self.fc1_1(x)\r\n",
        "        x1=F.relu(x1)\r\n",
        "        x1=self.fc1_2(x1)\r\n",
        "        x1=F.relu(x1)\r\n",
        "        x1=self.fc1_3(x1)\r\n",
        "        x1=F.relu(x1)\r\n",
        "\r\n",
        "        x2=self.fc2_1(x)\r\n",
        "        x2=F.relu(x2)\r\n",
        "        x2=self.fc2_2(x2)\r\n",
        "        x2=F.relu(x2)\r\n",
        "        x2=self.fc2_3(x2)\r\n",
        "        x2=F.relu(x2)\r\n",
        "\r\n",
        "        x3=self.fc3_1(x)\r\n",
        "        x3=F.relu(x3)\r\n",
        "        x3=self.fc3_2(x3)\r\n",
        "        x3=F.relu(x3)\r\n",
        "        x3=self.fc3_3(x3)\r\n",
        "        x3=F.relu(x3)\r\n",
        "\r\n",
        "\r\n",
        "        x=torch.cat((x1, x2, x3), dim=1)\r\n",
        "        x=nn.Dropout(self.drop_rate)(x)\r\n",
        "        x=self.fc_full_1(x)\r\n",
        "        x=F.relu(x)\r\n",
        "        x=self.fc_full_2(x)\r\n",
        "        x=F.relu(x)\r\n",
        "        x=self.fc_full_3(x)\r\n",
        "\r\n",
        "        return x\r\n",
        "\r\n",
        "model=Net(0.2).to(device)"
      ],
      "execution_count": 38,
      "outputs": []
    },
    {
      "cell_type": "code",
      "metadata": {
        "id": "X4NdVtWbDPYH"
      },
      "source": [
        "#accuracy 계산 함수\r\n",
        "def calc_accuracy(X,Y):\r\n",
        "    max_vals, max_indices = torch.max(X, 1)\r\n",
        "    train_acc = (max_indices == Y).sum().data.cpu().numpy()/max_indices.size()[0]\r\n",
        "    return train_acc"
      ],
      "execution_count": 39,
      "outputs": []
    },
    {
      "cell_type": "markdown",
      "metadata": {
        "id": "8zyssdm6D_q3"
      },
      "source": [
        "#### training session"
      ]
    },
    {
      "cell_type": "code",
      "metadata": {
        "id": "RFmPT_qt4gJX"
      },
      "source": [
        "#hyperparameters\r\n",
        "learning_rate=1e-3\r\n",
        "num_epochs=1600\r\n",
        "log_interval=100\r\n",
        "warmup_ratio=0.1\r\n",
        "max_grad_norm = 1"
      ],
      "execution_count": 40,
      "outputs": []
    },
    {
      "cell_type": "code",
      "metadata": {
        "id": "3yrjxX8aEM4X"
      },
      "source": [
        "optimizer = torch.optim.Adam(model.parameters(), lr=learning_rate)\r\n",
        "loss_fn = nn.CrossEntropyLoss()\r\n",
        "\r\n",
        "step_size=300\r\n",
        "\r\n",
        "scheduler = torch.optim.lr_scheduler.StepLR(optimizer, step_size, gamma=0.3, last_epoch=-1)"
      ],
      "execution_count": 41,
      "outputs": []
    },
    {
      "cell_type": "code",
      "metadata": {
        "id": "2jMPNDXeEBi6",
        "colab": {
          "base_uri": "https://localhost:8080/",
          "height": 1000,
          "referenced_widgets": [
            "05908e76212744f9a888deeb94f29786",
            "83abf640cc434e57bd7fa872c3cf9a19",
            "dbda19e654654b1fada54569306762b2",
            "d5472ed724ce413294361b10385732f8",
            "eefb8d0983ef4263b814f5c522640072",
            "71f759db807b49ac8c795674562bcd93",
            "cb7a55dd888b4ab780bf051f4911f2a2",
            "792db9ab7c4049119325b4b39301008f"
          ]
        },
        "outputId": "02e20ff1-3f68-4c2d-c875-eb4bc07c99f4"
      },
      "source": [
        "#이후 모델 파일명 및 submission에 사용하기 위한 변수 선언\r\n",
        "answer=[]\r\n",
        "acc=0\r\n",
        "acc_arr={'train': [], 'valid': [], 'test': []}\r\n",
        "loss_arr={'train': [], 'valid': [], 'test': []}\r\n",
        "#starttime=0\r\n",
        "#학습 시작\r\n",
        "for e in tqdm_notebook(range(num_epochs)):\r\n",
        "    train_acc = 0.0\r\n",
        "    valid_acc = 0.0\r\n",
        "    model.train()\r\n",
        "    for batch_id, (x_batch, y_batch) in enumerate(train_dataloader):\r\n",
        "        optimizer.zero_grad()\r\n",
        "        x_batch = x_batch.float().to(device)\r\n",
        "        y_batch = y_batch.long().to(device)\r\n",
        "        out = model(x_batch)\r\n",
        "        loss = loss_fn(out, y_batch)\r\n",
        "        loss.backward()\r\n",
        "        torch.nn.utils.clip_grad_norm_(model.parameters(), max_grad_norm)\r\n",
        "        optimizer.step() \r\n",
        "        scheduler.step()\r\n",
        "        train_acc += calc_accuracy(out, y_batch)\r\n",
        "        acc_arr['train'].append(train_acc)\r\n",
        "        loss_arr['train'].append(loss)\r\n",
        "        #if batch_id % log_interval == 0 and batch_id != 0:\r\n",
        "         #   print(\"epoch {} batch id {} loss {} train acc {}\".format(e+1, batch_id+1, loss.data.cpu().numpy(), train_acc / (batch_id+1)))\r\n",
        "\r\n",
        "    model.eval()\r\n",
        "    for batch_id, (x_batch, y_batch) in enumerate(valid_dataloader):\r\n",
        "        with torch.no_grad():\r\n",
        "            x_batch = x_batch.float().to(device)\r\n",
        "            y_batch = y_batch.long().to(device)\r\n",
        "            out = model(x_batch)\r\n",
        "\r\n",
        "            loss = loss_fn(out, y_batch)\r\n",
        "            valid_acc += calc_accuracy(out, y_batch)\r\n",
        "            \r\n",
        "            acc_arr['valid'].append(train_acc)\r\n",
        "            loss_arr['valid'].append(loss)\r\n",
        "        \r\n",
        "\r\n",
        "    if e%log_interval == 0 or e==num_epochs-1:\r\n",
        "        print(\"epoch {} train acc {}\".format(e+1, train_acc / (batch_id+1)))\r\n",
        "        print(\"\\tvalid acc {}\".format(valid_acc))\r\n",
        "\r\n",
        "    if e%(step_size-1)==0 or e==0 or e==num_epochs-1: \r\n",
        "        print('\\tcurrent lr: ', scheduler.optimizer.state_dict()['param_groups'][0]['lr'])    \r\n",
        "\r\n",
        "        \r\n"
      ],
      "execution_count": 43,
      "outputs": [
        {
          "output_type": "stream",
          "text": [
            "/usr/local/lib/python3.7/dist-packages/ipykernel_launcher.py:8: TqdmDeprecationWarning: This function will be removed in tqdm==5.0.0\n",
            "Please use `tqdm.notebook.tqdm` instead of `tqdm.tqdm_notebook`\n",
            "  \n"
          ],
          "name": "stderr"
        },
        {
          "output_type": "display_data",
          "data": {
            "application/vnd.jupyter.widget-view+json": {
              "model_id": "05908e76212744f9a888deeb94f29786",
              "version_minor": 0,
              "version_major": 2
            },
            "text/plain": [
              "HBox(children=(FloatProgress(value=0.0, max=1600.0), HTML(value='')))"
            ]
          },
          "metadata": {
            "tags": []
          }
        },
        {
          "output_type": "stream",
          "text": [
            "epoch 1 train acc 0.3455416666666667\n",
            "\tvalid acc 0.353125\n",
            "\tcurrent lr:  0.001\n",
            "epoch 51 train acc 0.7245277777777778\n",
            "\tvalid acc 0.746875\n",
            "epoch 101 train acc 0.7764166666666666\n",
            "\tvalid acc 0.7885\n",
            "epoch 151 train acc 0.8751527777777778\n",
            "\tvalid acc 0.892\n",
            "epoch 201 train acc 0.8133472222222222\n",
            "\tvalid acc 0.846625\n",
            "epoch 251 train acc 0.8674583333333333\n",
            "\tvalid acc 0.823875\n",
            "\tcurrent lr:  0.0003\n",
            "epoch 301 train acc 0.9132916666666666\n",
            "\tvalid acc 0.9155\n",
            "epoch 351 train acc 0.9445555555555556\n",
            "\tvalid acc 0.94375\n",
            "epoch 401 train acc 0.9562638888888889\n",
            "\tvalid acc 0.95475\n",
            "epoch 451 train acc 0.96025\n",
            "\tvalid acc 0.95925\n",
            "epoch 501 train acc 0.9509444444444445\n",
            "\tvalid acc 0.951375\n",
            "epoch 551 train acc 0.9725972222222222\n",
            "\tvalid acc 0.96025\n",
            "\tcurrent lr:  8.999999999999999e-05\n",
            "epoch 601 train acc 0.9727222222222223\n",
            "\tvalid acc 0.974\n",
            "epoch 651 train acc 0.9798333333333333\n",
            "\tvalid acc 0.9795\n",
            "epoch 701 train acc 0.982875\n",
            "\tvalid acc 0.982875\n",
            "epoch 751 train acc 0.9848472222222222\n",
            "\tvalid acc 0.984375\n",
            "epoch 801 train acc 0.9862083333333334\n",
            "\tvalid acc 0.9855\n",
            "epoch 851 train acc 0.9840833333333333\n",
            "\tvalid acc 0.983375\n",
            "\tcurrent lr:  2.6999999999999996e-05\n",
            "epoch 901 train acc 0.9876388888888888\n",
            "\tvalid acc 0.987375\n",
            "epoch 951 train acc 0.9881805555555555\n",
            "\tvalid acc 0.989125\n",
            "epoch 1001 train acc 0.9886944444444444\n",
            "\tvalid acc 0.987125\n",
            "epoch 1051 train acc 0.9889166666666667\n",
            "\tvalid acc 0.988375\n",
            "epoch 1101 train acc 0.9892083333333334\n",
            "\tvalid acc 0.987625\n",
            "epoch 1151 train acc 0.9895833333333334\n",
            "\tvalid acc 0.989\n",
            "\tcurrent lr:  8.099999999999999e-06\n",
            "epoch 1201 train acc 0.9900833333333333\n",
            "\tvalid acc 0.989375\n",
            "epoch 1251 train acc 0.9902361111111111\n",
            "\tvalid acc 0.989\n",
            "epoch 1301 train acc 0.99025\n",
            "\tvalid acc 0.989125\n",
            "epoch 1351 train acc 0.9901388888888889\n",
            "\tvalid acc 0.989375\n",
            "epoch 1401 train acc 0.9904305555555556\n",
            "\tvalid acc 0.98875\n",
            "epoch 1451 train acc 0.9903611111111111\n",
            "\tvalid acc 0.98925\n",
            "\tcurrent lr:  2.4299999999999996e-06\n",
            "epoch 1501 train acc 0.9905555555555555\n",
            "\tvalid acc 0.99\n",
            "epoch 1551 train acc 0.9908611111111111\n",
            "\tvalid acc 0.989375\n",
            "epoch 1600 train acc 0.9907916666666666\n",
            "\tvalid acc 0.98925\n",
            "\tcurrent lr:  2.4299999999999996e-06\n",
            "\n"
          ],
          "name": "stdout"
        }
      ]
    },
    {
      "cell_type": "code",
      "metadata": {
        "colab": {
          "base_uri": "https://localhost:8080/"
        },
        "id": "YpxIbDoCHNB7",
        "outputId": "d2241c9e-51aa-41ab-9542-66034a180ea2"
      },
      "source": [
        "!nvidia-smi"
      ],
      "execution_count": 44,
      "outputs": [
        {
          "output_type": "stream",
          "text": [
            "Fri Feb 26 07:20:21 2021       \n",
            "+-----------------------------------------------------------------------------+\n",
            "| NVIDIA-SMI 460.39       Driver Version: 460.32.03    CUDA Version: 11.2     |\n",
            "|-------------------------------+----------------------+----------------------+\n",
            "| GPU  Name        Persistence-M| Bus-Id        Disp.A | Volatile Uncorr. ECC |\n",
            "| Fan  Temp  Perf  Pwr:Usage/Cap|         Memory-Usage | GPU-Util  Compute M. |\n",
            "|                               |                      |               MIG M. |\n",
            "|===============================+======================+======================|\n",
            "|   0  Tesla T4            Off  | 00000000:00:04.0 Off |                    0 |\n",
            "| N/A   73C    P0    31W /  70W |   5782MiB / 15109MiB |      0%      Default |\n",
            "|                               |                      |                  N/A |\n",
            "+-------------------------------+----------------------+----------------------+\n",
            "                                                                               \n",
            "+-----------------------------------------------------------------------------+\n",
            "| Processes:                                                                  |\n",
            "|  GPU   GI   CI        PID   Type   Process name                  GPU Memory |\n",
            "|        ID   ID                                                   Usage      |\n",
            "|=============================================================================|\n",
            "+-----------------------------------------------------------------------------+\n"
          ],
          "name": "stdout"
        }
      ]
    },
    {
      "cell_type": "code",
      "metadata": {
        "id": "8nSc3rOlHkGb"
      },
      "source": [
        ""
      ],
      "execution_count": null,
      "outputs": []
    },
    {
      "cell_type": "code",
      "metadata": {
        "id": "ixeCxJilIveD",
        "colab": {
          "base_uri": "https://localhost:8080/",
          "height": 390
        },
        "outputId": "7971e09e-8357-4d3b-cc60-3039f983f38e"
      },
      "source": [
        "plt.rcParams['figure.figsize']=[10, 6]\r\n",
        "plt.title('loss')\r\n",
        "plt.plot(loss_arr['train'], color='r')\r\n",
        "plt.plot(loss_arr['valid'], color='g')\r\n",
        "plt.show()"
      ],
      "execution_count": 45,
      "outputs": [
        {
          "output_type": "display_data",
          "data": {
            "image/png": "[encoded data removed]",
            "text/plain": [
              "<Figure size 720x432 with 1 Axes>"
            ]
          },
          "metadata": {
            "tags": [],
            "needs_background": "light"
          }
        }
      ]
    },
    {
      "cell_type": "code",
      "metadata": {
        "colab": {
          "base_uri": "https://localhost:8080/",
          "height": 390
        },
        "id": "Agf42r5FNAst",
        "outputId": "834c81c7-2715-4476-e22f-2ca85aede321"
      },
      "source": [
        "plt.rcParams['figure.figsize']=[10, 6]\r\n",
        "plt.title('acc')\r\n",
        "plt.plot(acc_arr['train'], color='r')\r\n",
        "plt.plot(acc_arr['valid'], color='g')\r\n",
        "plt.show()"
      ],
      "execution_count": 46,
      "outputs": [
        {
          "output_type": "display_data",
          "data": {
            "image/png": "[encoded data removed]",
            "text/plain": [
              "<Figure size 720x432 with 1 Axes>"
            ]
          },
          "metadata": {
            "tags": [],
            "needs_background": "light"
          }
        }
      ]
    },
    {
      "cell_type": "code",
      "metadata": {
        "id": "uljCzs6Bi2aS"
      },
      "source": [
        "#평가 부분 작성"
      ],
      "execution_count": 47,
      "outputs": []
    },
    {
      "cell_type": "code",
      "metadata": {
        "id": "PR9UAy9eJK6D"
      },
      "source": [
        "def roc_pipe(y_true, y_score):\r\n",
        "    from sklearn.metrics import roc_curve, roc_auc_score\r\n",
        "    fpr, tpr, _ = roc_curve(y_true, y_score)\r\n",
        "    plt.figure(1)\r\n",
        "    plt.plot([0, 1], [0, 1], 'k--')\r\n",
        "    plt.plot(fpr, tpr, label='RT + LR')\r\n",
        "    #plt.text(0.55, 0.6, roc_auc_score(y_true, y_score), size=10)\r\n",
        "\r\n",
        "    plt.xlabel('False positive rate')\r\n",
        "    plt.ylabel('True positive rate')\r\n",
        "    plt.title('ROC curve')\r\n",
        "    plt.legend(loc='best')\r\n",
        "    plt.show()\r\n",
        "    plt.close()"
      ],
      "execution_count": 59,
      "outputs": []
    },
    {
      "cell_type": "code",
      "metadata": {
        "colab": {
          "base_uri": "https://localhost:8080/"
        },
        "id": "jUsP1nskBbl2",
        "outputId": "c816e238-b73d-403c-f6e6-0ff46c241fb6"
      },
      "source": [
        "for batch_id, (x_batch, y_batch) in enumerate(test_dataloader):\r\n",
        "    with torch.no_grad():\r\n",
        "        x_batch = x_batch.float().to(device)\r\n",
        "        y_batch = y_batch.long().to(device)\r\n",
        "        out = model(x_batch)\r\n",
        "\r\n",
        "        test_acc = calc_accuracy(out, y_batch)\r\n",
        "        \r\n",
        "\r\n",
        "print('test acc: ', test_acc)\r\n",
        "\r\n"
      ],
      "execution_count": 63,
      "outputs": [
        {
          "output_type": "stream",
          "text": [
            "test acc:  0.99065\n"
          ],
          "name": "stdout"
        }
      ]
    },
    {
      "cell_type": "code",
      "metadata": {
        "id": "PeakAEx7NsDq"
      },
      "source": [
        ""
      ],
      "execution_count": 62,
      "outputs": []
    }
  ]
}